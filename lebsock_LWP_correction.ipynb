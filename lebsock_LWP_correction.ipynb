{
 "cells": [
  {
   "cell_type": "code",
   "execution_count": 1,
   "metadata": {},
   "outputs": [],
   "source": [
    "import trackerlib\n",
    "from csat2 import misc, ECMWF, GOES\n",
    "from csat2.ECMWF.ECMWF import _calc_eis\n",
    "from datetime import datetime, timedelta\n",
    "import matplotlib.pyplot as plt\n",
    "import numpy as np\n",
    "from cartopy import crs as ccrs\n",
    "import matplotlib.ticker as mticker\n",
    "import matplotlib.gridspec as gridspec\n",
    "import matplotlib.dates as mdates\n",
    "from tqdm.notebook import tqdm\n",
    "import time\n",
    "import xarray as xr\n",
    "import numpy.ma as ma\n",
    "#from advection_funcs import subset_around_point\n",
    "import matplotlib.patches as mpatches\n",
    "import math\n",
    "import cftime\n",
    "from scipy.optimize import curve_fit\n",
    "from netCDF4 import Dataset\n",
    "import datetime\n",
    "from matplotlib.colors import LogNorm\n",
    "from advection_functions import advection_funcs,GOES_AMSR_colocation,LWP_correction_funcs\n",
    "import pvlib\n",
    "import pandas as pd\n"
   ]
  },
  {
   "cell_type": "code",
   "execution_count": null,
   "metadata": {},
   "outputs": [],
   "source": [
    "\n",
    "\n"
   ]
  },
  {
   "cell_type": "markdown",
   "metadata": {},
   "source": []
  },
  {
   "cell_type": "code",
   "execution_count": 2,
   "metadata": {},
   "outputs": [],
   "source": [
    "### specify the initial time of the initial parcel\n",
    "year, doy, hour = 2020, 92, 15 # Year, day of year, hour of day, note 17:00 UTC corresponds to 9am local time in california, 15UTC is 7am local time\n",
    "init_time = misc.time.ydh_to_datetime(year, doy, hour)\n",
    "time_step = datetime.timedelta(hours=0.5)  # Time step of the integration, this is 30 mins by default\n",
    "\n",
    "n_trajectories = 1  # number of trajectories to run, since we start consecutive trajectories from the same initial position, this is the number of initial hours to loop over\n",
    "\n",
    "t_step = 24 # time step in hours between setting off successive trajectories\n",
    "\n",
    "rho_w = 1000 # density of water kg/m^3\n",
    "\n",
    "time_between_trajectroies = datetime.timedelta(hours=t_step) # time between each trajectory, annoyingly this has to be equal to t_step for my current implementation\n",
    "\n",
    "time_advected = 24 # number of hours each parcel is advected for, something on order of days is appropriate, but use a small value for testing\n",
    "\n",
    "total_time = datetime.timedelta(hours=time_advected) + datetime.timedelta(hours=(n_trajectories -1)*t_step) # total time of the integration\n",
    "hours, seconds = divmod(total_time.total_seconds(), 3600)\n",
    "minutes = seconds // 60\n",
    "#init_position = np.array([initial_lon, initial_lat])  # Initial position of the air parcel\n",
    "#winddata = ECMWF.ERA5WindData(level=\"1000hPa\",res=\"0.25grid\",linear_interp=\"both\") # wind data on 1 degree grid, linearly interpolated in space and time\n",
    "n_steps = int(total_time.total_seconds() / time_step.total_seconds()) +1 # Number of steps in the integration, add one on to account for the initial position\n",
    "channel =7 # GOES channel of interest, note that this is the same resolution as the phase data\n",
    "\n",
    "times = [init_time + i * time_step for i in range(n_steps)] # List of times for the integration\n",
    "\n",
    "start_of_year = datetime.datetime(year, 1, 1) \n",
    "GOES_doy = [(dt - start_of_year).days + 1 for dt in times] ##\n",
    "GOES_doy = [f\"{doy:03d}\" for doy in GOES_doy] ## format so it is 3 digits long i.e. 001 for 1st Jan\n",
    "\n",
    "GOES_times = np.array([dt.strftime(\"%H%M\") for dt in times]) ## list of times in the format HHMM, note this will have shape length of single trajectory + t_step * successive trajectories/ time_step\n",
    "\n",
    "GOES_timestamps = pd.to_datetime(times)\n",
    "\n"
   ]
  },
  {
   "cell_type": "code",
   "execution_count": 3,
   "metadata": {},
   "outputs": [
    {
     "name": "stdout",
     "output_type": "stream",
     "text": [
      "[datetime.datetime(2020, 4, 1, 15, 0), datetime.datetime(2020, 4, 1, 15, 30), datetime.datetime(2020, 4, 1, 16, 0), datetime.datetime(2020, 4, 1, 16, 30), datetime.datetime(2020, 4, 1, 17, 0), datetime.datetime(2020, 4, 1, 17, 30), datetime.datetime(2020, 4, 1, 18, 0), datetime.datetime(2020, 4, 1, 18, 30), datetime.datetime(2020, 4, 1, 19, 0), datetime.datetime(2020, 4, 1, 19, 30), datetime.datetime(2020, 4, 1, 20, 0), datetime.datetime(2020, 4, 1, 20, 30), datetime.datetime(2020, 4, 1, 21, 0), datetime.datetime(2020, 4, 1, 21, 30), datetime.datetime(2020, 4, 1, 22, 0), datetime.datetime(2020, 4, 1, 22, 30), datetime.datetime(2020, 4, 1, 23, 0), datetime.datetime(2020, 4, 1, 23, 30), datetime.datetime(2020, 4, 2, 0, 0), datetime.datetime(2020, 4, 2, 0, 30), datetime.datetime(2020, 4, 2, 1, 0), datetime.datetime(2020, 4, 2, 1, 30), datetime.datetime(2020, 4, 2, 2, 0), datetime.datetime(2020, 4, 2, 2, 30), datetime.datetime(2020, 4, 2, 3, 0), datetime.datetime(2020, 4, 2, 3, 30), datetime.datetime(2020, 4, 2, 4, 0), datetime.datetime(2020, 4, 2, 4, 30), datetime.datetime(2020, 4, 2, 5, 0), datetime.datetime(2020, 4, 2, 5, 30), datetime.datetime(2020, 4, 2, 6, 0), datetime.datetime(2020, 4, 2, 6, 30), datetime.datetime(2020, 4, 2, 7, 0), datetime.datetime(2020, 4, 2, 7, 30), datetime.datetime(2020, 4, 2, 8, 0), datetime.datetime(2020, 4, 2, 8, 30), datetime.datetime(2020, 4, 2, 9, 0), datetime.datetime(2020, 4, 2, 9, 30), datetime.datetime(2020, 4, 2, 10, 0), datetime.datetime(2020, 4, 2, 10, 30), datetime.datetime(2020, 4, 2, 11, 0), datetime.datetime(2020, 4, 2, 11, 30), datetime.datetime(2020, 4, 2, 12, 0), datetime.datetime(2020, 4, 2, 12, 30), datetime.datetime(2020, 4, 2, 13, 0), datetime.datetime(2020, 4, 2, 13, 30), datetime.datetime(2020, 4, 2, 14, 0), datetime.datetime(2020, 4, 2, 14, 30), datetime.datetime(2020, 4, 2, 15, 0)]\n"
     ]
    }
   ],
   "source": [
    "print(times)"
   ]
  },
  {
   "cell_type": "code",
   "execution_count": 4,
   "metadata": {},
   "outputs": [
    {
     "name": "stdout",
     "output_type": "stream",
     "text": [
      "['1500' '1530' '1600' '1630' '1700' '1730' '1800' '1830' '1900' '1930'\n",
      " '2000' '2030' '2100' '2130' '2200' '2230' '2300' '2330' '0000' '0030'\n",
      " '0100' '0130' '0200' '0230' '0300' '0330' '0400' '0430' '0500' '0530'\n",
      " '0600' '0630' '0700' '0730' '0800' '0830' '0900' '0930' '1000' '1030'\n",
      " '1100' '1130' '1200' '1230' '1300' '1330' '1400' '1430' '1500']\n"
     ]
    }
   ],
   "source": [
    "print(GOES_times)"
   ]
  },
  {
   "cell_type": "code",
   "execution_count": 5,
   "metadata": {},
   "outputs": [
    {
     "name": "stdout",
     "output_type": "stream",
     "text": [
      "2020-04-01 15:00:00\n"
     ]
    }
   ],
   "source": [
    "print(GOES_timestamps[0])"
   ]
  },
  {
   "cell_type": "code",
   "execution_count": 6,
   "metadata": {},
   "outputs": [
    {
     "name": "stdout",
     "output_type": "stream",
     "text": [
      "all data is on the same grid :)\n",
      "0\n"
     ]
    }
   ],
   "source": [
    "# this initializses the initial granule, so we can check data is all on same grid\n",
    "\n",
    "# 50 trajecories takes about 10 mins\n",
    "\n",
    "resample_size = 5 # the resample size in pixels, so 5 means 5x5 pixels are resampled to 1 pixel\n",
    "\n",
    "region_size = 500 # number of pixels to take around the initial point, someting like 500 for 24 hours, or 250 for 48 to prevent falling off the edge of the GOES grid\n",
    "\n",
    "size = int(region_size/resample_size)\n",
    "\n",
    "init_point = [-137,30] ## specify the initial point of interest to look at, we will then choose 500 x 500 pixel grid around this [-137,30] is the central lon, lat of the CONUS granule\n",
    "\n",
    "init_position_all = []  ## format (n trajectories, init_lon,int_lat,x_ind,y_ind)\n",
    "\n",
    "\n",
    "\n",
    "\n",
    "\n",
    "\n",
    "positions_all = np.ma.empty(shape = (n_trajectories,np.shape(GOES_times)[0],2,int(region_size/resample_size),int(region_size/resample_size))) # format (n_trajectories,time,lon/lat,x_index,y_index) initialized the array to store the positions fo the parcel\n",
    "\n",
    "for i in range(n_trajectories):\n",
    "    gran = GOES.Granule.fromtext(f'G17.{year}{GOES_doy[t_step*2*i]}.{GOES_times[t_step*2*i]}.RadC') # note RadF corresponds to full fisk, RadC is continental US (CONUS)\n",
    "\n",
    "    try :\n",
    "        gran.get_filename(channel=channel) # checks if the data is downloaded for the initial granule\n",
    "    except IndexError:\n",
    "        gran.download(channel=channel) # if it isn't, then download it\n",
    "\n",
    "\n",
    "\n",
    "    try:\n",
    "        lon, lat = gran.get_lonlat(channel=channel)  # get the lon and lat of the granule\n",
    "    except IndexError:\n",
    "        print(\"No matching file found. Skipping lon-lat extraction.\")\n",
    "\n",
    "    try:\n",
    "        gran.get_filename(product = 'L2-ACTP') # Check if the cloud top phase is downloaded for this granule\n",
    "\n",
    "    except IndexError:\n",
    "        gran.download(product = 'L2-ACTP') # if not, download it\n",
    "        print('downloading cloud top phase')\n",
    "\n",
    "    try:\n",
    "        gran.get_filename(product = 'L2-ACM') # Check if the cloud mask is downloaded for this granule\n",
    "    except IndexError:\n",
    "        gran.download(product = 'L2-ACM')\n",
    "        print('downloading clear sky mask')\n",
    "\n",
    "    try:\n",
    "        gran.get_filename(product = 'L2-CPS') # Check if the cloud top phase is downloaded for this granule\n",
    "\n",
    "    except IndexError:\n",
    "       gran.download(product = 'L2-CPS') # if not, download it\n",
    "       print('downloading cloud particle size')\n",
    "\n",
    "    try:\n",
    "        gran.get_filename(product = 'L2-COD')\n",
    "    except IndexError:\n",
    "        gran.download(product = 'L2-COD')\n",
    "        print('downloading cloud optical depth')\n",
    "\n",
    "    try:    \n",
    "        phase = gran.get_product_data('L2-ACTP') ### cloud phase data; 0:clear, 1:liquid water, 2:mixed phase, 3:ice, 4:unknown \n",
    "\n",
    "        radiances = gran.get_band_radiance(channel=channel) #\n",
    "\n",
    "        clear_sky = gran.get_product_data('L2-ACM') # clear sky mask, 0: clear/ probably clear, 1: cloudy/ probably cloudy\n",
    "\n",
    "        GOES_index_init_point = np.array(gran.locate(np.array([init_point]), channel = channel))[0] # return GOES index in format [column, row] e.g. edge of the swath would be [2500,1500], take care as numpy indexing is [row,column]\n",
    "\n",
    "        CER = gran.get_product_data('L2-CPS') # cloud effective radius\n",
    "\n",
    "        COD = gran.get_product_data('L2-COD') # cloud optical depth\n",
    "\n",
    "    except ValueError:\n",
    "\n",
    "        pass\n",
    "\n",
    "    except IndexError:\n",
    "        print(\"No matching file found. Skipping phase/ radiance/ clear_sky extraction.\")\n",
    "\n",
    "\n",
    "    if np.shape(phase) != np.shape(radiances) != np.shape(lon) != np.shape(lat)  != np.shape(clear_sky) != np.shape(CER) !=np.shape(COD):\n",
    "        print('proceed with caution, shapes are not the same, consider using full disk')\n",
    "    else:\n",
    "        print('all data is on the same grid :)')\n",
    "\n",
    "    lwc_mask = (phase ==1) & (clear_sky ==1) ## true when lwc is present\n",
    "\n",
    "    lwc_mask = ~lwc_mask ## i.e. entries where lwc is not present are masked\n",
    "\n",
    "\n",
    "    ## returns boolean array, True when cloud is present\n",
    "    clear_sky_mask = clear_sky !=1\n",
    "\n",
    "    ### mask out indices where liquid cloud isn't present\n",
    "\n",
    "    radiances = np.ma.masked_array(radiances, mask = lwc_mask)\n",
    "    lon = np.ma.masked_array(lon, mask = lwc_mask)\n",
    "    lat = np.ma.masked_array(lat, mask = lwc_mask)\n",
    "\n",
    "\n",
    "\n",
    "    \n",
    "\n",
    "    #GOES_index_init_point = np.array(gran.locate(np.array([init_point]), channel = channel))[0] # return GOES index in format [column, row] e.g. edge of the swath would be [2500,1500], take care as numpy indexing is [row,column]\n",
    "\n",
    "    \n",
    "\n",
    "    init_lat = advection_funcs.subset_around_point(lat,GOES_index_init_point,subset_size=region_size) # subset the lat and lon around the initial point\n",
    "\n",
    "    init_lon = advection_funcs.subset_around_point(lon,GOES_index_init_point,subset_size=region_size)\n",
    "\n",
    "    clear_sky_mask = advection_funcs.subset_around_point(clear_sky_mask,GOES_index_init_point,subset_size=region_size) # subset the clear sky mask around the initial point\n",
    "\n",
    "    # regrid to 10km resolution\n",
    "\n",
    "    # resample the data to a lower resolution so that we can carry out CF calculation\n",
    "\n",
    "    \n",
    "    init_lon = init_lon[::resample_size,::resample_size]\n",
    "    init_lat = init_lat[::resample_size,::resample_size]\n",
    "    clear_sky_mask = clear_sky_mask[::resample_size,::resample_size]\n",
    "\n",
    "    init_position_all.append([init_lon,init_lat]) ## format (n trajectories, init_lon,int_lat)\n",
    "\n",
    "    ################ load in wind data #####################\n",
    "\n",
    "    ## loaads in wind data, defines initial positions for scene, advects each parcel for the total time\n",
    "\n",
    "    winddata = ECMWF.ERA5WindData(level=\"1000hPa\",res=\"1grid\",linear_interp=\"both\") # wind data on 1 degree grid, linearly interpolated in space and time, using finer resolution has led to problems\n",
    "\n",
    "    init_position = [init_lon, init_lat]  # Initial positions of the air parcel, this is a list of lists, so can be used to advect multiple parcels\n",
    "\n",
    "    parcel = trackerlib.AdvectParcel(winddata, init_position, init_time+i*time_between_trajectroies, time_step) # create the parcel object\n",
    "\n",
    "    positions, winds = parcel.advect(total_time) #[lon,lat] advect the parcel for the total time, this is very slow due to large number of pixels, advecting pixels at such small scale somewhat redundant since we would expect nearby pixels to move very similarly, move up to 10km resolution forn CF calculations\n",
    "    positions = np.array(positions) ## format (time,lon/lat,x_index,y_index)\n",
    "\n",
    "    positions = np.ma.masked_invalid(positions) ### mask NaN values\n",
    "\n",
    "    positions_all[i,i*int(time_between_trajectroies/time_step):i*int(time_between_trajectroies/time_step)+int(datetime.timedelta(hours=time_advected).total_seconds() / time_step.total_seconds()) +1,:,:,:] = positions[0:int(datetime.timedelta(hours=time_advected).total_seconds() / time_step.total_seconds())+1,:,:,:] ## format (n_trajectories,time,lon/lat,x_index,y_index)\n",
    "\n",
    "    print(i)\n",
    "\n",
    "\n",
    "\n",
    "positions_all = np.array(positions_all) ## format (n_trajectories,time,lon/lat,x_index,y_index), note the time columns in posit\n",
    "init_position_all = np.array(init_position_all) ## format (n trajectories, init_lon,int_lat)"
   ]
  },
  {
   "cell_type": "code",
   "execution_count": null,
   "metadata": {},
   "outputs": [],
   "source": []
  },
  {
   "cell_type": "code",
   "execution_count": 7,
   "metadata": {},
   "outputs": [],
   "source": [
    "## AMSR stuff, load in AMSR metadata for entire month, swap this out for AMSR RSS stuff\n",
    "df = advection_funcs.calculate_AMSR_metadata(year,times[0].month)"
   ]
  },
  {
   "cell_type": "code",
   "execution_count": null,
   "metadata": {},
   "outputs": [],
   "source": []
  },
  {
   "cell_type": "code",
   "execution_count": 8,
   "metadata": {},
   "outputs": [
    {
     "name": "stdout",
     "output_type": "stream",
     "text": [
      "downloading cloud top phase\n",
      "downloading clear sky mask\n",
      "downloading channel\n",
      "downloading cloud particle size\n",
      "downloading cloud optical depth\n",
      "Error: No matching file. Skipping this time step 10\n",
      "48\n"
     ]
    }
   ],
   "source": [
    "index_to_skip = [] ## list of indices to skip  due to no matching file\n",
    "rad_along_traj = [] ## this it the radiance along the trajectory\n",
    "#CF = [] # list to store the cloud fraction along the trajectory\n",
    "\n",
    "clear_sky_mask_tot = []\n",
    "\n",
    "clear_sky_mask_testing = [] # this is just subset of the clear sky mask around the initial point, just for checking advection is working\n",
    "\n",
    "matching_granules = [] #np.zeros((n_steps))\n",
    "\n",
    "#trajectory = np.zeros((t,row,column)) ## array to store the trajectory of the parcel, will have equal to 1 if parcel present and zero otherwise, has same shape as entire granule so we can easilty overlay it\n",
    "\n",
    "\n",
    "positions_all = np.ma.masked_where(positions_all == 0, positions_all)\n",
    "\n",
    "#CF = np.zeros((n_trajectories,n_steps,int(region_size/resample_size),int(region_size/resample_size)))\n",
    "AMSR_LWP = np.ma.empty(shape=(n_trajectories,n_steps,int(region_size/resample_size),int(region_size/resample_size)))\n",
    "AMSR_filenames = np.empty((n_steps),dtype=object)\n",
    "\n",
    "GOES_LWP = np.ma.empty(shape=(n_trajectories,n_steps,int(region_size/resample_size),int(region_size/resample_size)))\n",
    "solar_zenith = np.ma.empty(shape=(n_trajectories,n_steps,int(region_size/resample_size),int(region_size/resample_size)))\n",
    "solar_azimuth = np.ma.empty(shape=(n_trajectories,n_steps,int(region_size/resample_size),int(region_size/resample_size)))\n",
    "AMSR_LWP = np.ma.empty(shape=(n_trajectories,n_steps,int(region_size/resample_size),int(region_size/resample_size)))\n",
    "AMSR_QF = np.ma.empty(shape=(n_trajectories,n_steps,int(region_size/resample_size),int(region_size/resample_size)))  ## empty masked array for storing the AMSR quality flag, note: 0=good, 1=use with caution, 2=use pixel with extreme care over snow, 3=use wih extreme caution\n",
    "CF = np.ma.empty(shape=(n_trajectories,n_steps,int(region_size/resample_size),int(region_size/resample_size)))\n",
    "                                                                                                                                     \n",
    "                        \n",
    "\n",
    "\n",
    "\n",
    "#GOES_LWP = np.zeros((n_trajectories,n_steps,int(region_size/resample_size),int(region_size/resample_size)))\n",
    "\n",
    "for i in range(n_steps):\n",
    "\n",
    "    gran = GOES.Granule.fromtext(f'G17.{year}{GOES_doy[i]}.{GOES_times[i]}.RadC') ## step forward the granule in time\n",
    "\n",
    "    try:\n",
    "        gran.get_filename(product = 'L2-ACTP')\n",
    "    except IndexError:\n",
    "        gran.download(product = 'L2-ACTP')\n",
    "        print('downloading cloud top phase')\n",
    "\n",
    "    try:\n",
    "        gran.get_filename(product = 'L2-ACM')\n",
    "    except IndexError:\n",
    "        gran.download(product = 'L2-ACM')\n",
    "        print('downloading clear sky mask')\n",
    "\n",
    "    try:\n",
    "        gran.get_filename(channel=channel)\n",
    "    except IndexError:\n",
    "        gran.download(channel=channel)\n",
    "        print('downloading channel')\n",
    "\n",
    "    try:\n",
    "        gran.get_filename(product = 'L2-CPS') # Check if the cloud particle size is downloaded for this granule\n",
    "\n",
    "    except IndexError:\n",
    "        gran.download(product = 'L2-CPS') # if not, download it\n",
    "        print('downloading cloud particle size')\n",
    "\n",
    "    try:\n",
    "        gran.get_filename(product = 'L2-COD') # check if cloud optical depth is downloaded for this granule\n",
    "    except IndexError:\n",
    "        gran.download(product = 'L2-COD') # if not, download it\n",
    "        print('downloading cloud optical depth')\n",
    "\n",
    "\n",
    "    try:\n",
    "        gran.get_filename(channel=channel)\n",
    "        phase = gran.get_product_data('L2-ACTP') ### cloud phase data; 0:clear, 1:liquid water, 2:mixed phase, 3:ice, 4:unknown \n",
    "        clear_sky_mask = gran.get_product_data(product='L2-ACM')  # clear sky mask, 0: clear/ probably clear, 1: cloudy/ probably cloudy\n",
    "        COD = gran.get_product_data('L2-COD') # cloud optical depth\n",
    "        CER = gran.get_product_data('L2-CPS') # cloud effective radius\n",
    "        glon, glat = gran.get_lonlat(channel=channel)  # get the lon and lat of the granule, this line is newwwww\n",
    "\n",
    "    except IndexError as e:\n",
    "            if 'No matching file' in str(e):\n",
    "                print(f\"Error: {e}. Skipping this time step {i}\")\n",
    "                index_to_skip.append(i)\n",
    "                continue\n",
    "\n",
    "    except OSError as e:\n",
    "        print(f\"Error accessing NetCDF file at timestep {i}: {e}. Skipping this timestep.\")\n",
    "        index_to_skip.append(i)\n",
    "        continue\n",
    "\n",
    "    except ValueError as e:\n",
    "        print(f\"Error accessing NetCDF file at timestep {i}: {e}. Skipping this timestep.\")\n",
    "        index_to_skip.append(i)\n",
    "        continue\n",
    "\n",
    "    GOES_index = []\n",
    "\n",
    "    GOES_time = times[i] ## time of the GOES granule\n",
    "\n",
    "    \n",
    "\n",
    "\n",
    "\n",
    "\n",
    "    ###############################################################################################   AMSR stuff      ####################################################################################################\n",
    "\n",
    "    glon360 = advection_funcs.adjust_longitudes(glon)  #adjust longitudes to be in range [0,360] rather than [-180,180]\n",
    "\n",
    "    min_glon,max_glon,min_glat,max_glat = np.min(glon360),np.max(glon360),np.min(glat),np.max(glat)\n",
    "\n",
    "    \n",
    "\n",
    "    GOES\n",
    "\n",
    "    matching_granules.append((df[\n",
    "    #(df['Min_Latitude'] >= min_glat) &\n",
    "    #(df['Max_Latitude'] <= max_glat) &\n",
    "    (df['Min_Longitude'] >= min_glon) &\n",
    "    (df['Max_Longitude'] <= max_glon) &\n",
    "    ((df['Min_Time'] <= GOES_time) &\n",
    "    (df['Max_Time'] >= GOES_time))\n",
    "]['Filename'].values))\n",
    "    \n",
    "    filename = df[\n",
    "    #(df['Min_Latitude'] >= min_glat) &\n",
    "    #(df['Max_Latitude'] <= max_glat) &\n",
    "    (df['Min_Longitude'] >= min_glon) &\n",
    "    (df['Max_Longitude'] <= max_glon) &\n",
    "    ((df['Min_Time'] <= GOES_time) &\n",
    "    (df['Max_Time'] >= GOES_time))\n",
    "]['Filename'].values\n",
    "    \n",
    "    if filename.size == 0:\n",
    "        AMSR_filenames[i] = None\n",
    "    else :\n",
    "        AMSR_filenames[i] = filename[0]\n",
    "\n",
    "\n",
    "\n",
    "\n",
    "\n",
    "   \n",
    "\n",
    "    for j in range(n_trajectories):\n",
    "\n",
    "        try:\n",
    "            GOES_index.append(np.array(gran.locate(np.array([positions_all[j,i,:,:,:]]), channel = channel)[0])) ## find the index of the GOES pixel closest to the parcel, double check [0] at end of this line\n",
    "        except IndexError as e:\n",
    "            if 'No matching file' in str(e):\n",
    "                print(f\"Error: {e}. Skipping this time step {i}\")\n",
    "                index_to_skip.append(i)\n",
    "                continue\n",
    "\n",
    "            else:\n",
    "                raise\n",
    "\n",
    "\n",
    "\n",
    "        except OSError as e:\n",
    "            if '[Errno -51] NetCDF: Unknown file format' in str(e) or '[Errno -101] NetCDF: HDF error:' in str(e):\n",
    "                print(f\"Error: {e}. Skipping this time step {i}\")\n",
    "                index_to_skip.append(i)\n",
    "                continue\n",
    "            else:\n",
    "                raise  # Re-raise unexpected OSError\n",
    "\n",
    "        if AMSR_filenames[i] is not None: ## edit this so it only calculates the AMSR indices once, calculate QR first and then only carry out LWP\n",
    "            AMSR_QF[j,i,:,:] = GOES_AMSR_colocation.AMSR_colocated(positions_all[j,i,0,:,:],positions_all[j,i,1,:,:],times[i],AMSR_filenames[i],AMSR_fieldname ='QualityFlag') ## AMSR quality flag\n",
    "            AMSR_LWP[j,i,:,:] = GOES_AMSR_colocation.AMSR_colocated(positions_all[j,i,0,:,:],positions_all[j,i,1,:,:],times[i],AMSR_filenames[i],AMSR_fieldname ='LiquidWaterPath') ## calculate the liquid water path in kg/m^2 \n",
    "        else:\n",
    "            AMSR_LWP[j,i,:,:] = np.ma.masked\n",
    "\n",
    "\n",
    "\n",
    "\n",
    "        # except OSError as e:\n",
    "        #     if '[Errno -51] NetCDF: Unknown file format' in str(e):\n",
    "        #         print(f\"Error: {e}. Skipping this time step {i}\")\n",
    "        #         index_to_skip.append(i)\n",
    "        #         continue\n",
    "        #     else:\n",
    "        #         raise  # Re-raise unexpected OSError\n",
    "\n",
    "        # except OSError as e:    \n",
    "        #     if '[Errno -101] NetCDF: HDF error:' in str(e):\n",
    "        #         print(f\"Error: {e}. Skipping this time step {i}\")\n",
    "        #         index_to_skip.append(i)\n",
    "        #         continue\n",
    "        #     else:\n",
    "        #         raise\n",
    "\n",
    "\n",
    "\n",
    "\n",
    "    #GOES_index = np.ma.masked_where(GOES_index < 0, GOES_index) ## mask out negative indices, think this represents falling off edge of swath?\n",
    "            \n",
    "    GOES_index = np.array(GOES_index) ## convert to numpy array\n",
    "    GOES_index = np.ma.array(GOES_index, mask = GOES_index < 0) ## mask out negative indices, think this represents falling off edge of swath?\n",
    "\n",
    "    GOES_index = np.where(GOES_index < 0, np.ma.masked, GOES_index)\n",
    "\n",
    "\n",
    "    #phase = gran.get_product_data('L2-ACTP') ### cloud phase data; 0:clear, 1:liquid water, 2:mixed phase, 3:ice, 4:unknown \n",
    "    clear_sky_mask = gran.get_product_data(product='L2-ACM')  # clear sky mask, 0: clear/ probably clear, 1: cloudy/ probably cloudy\n",
    "\n",
    "    lwc_mask = (phase ==1) & (clear_sky_mask ==1) ## true when lwc is present\n",
    "\n",
    "    GOES_index = GOES_index.astype(int) ## convert all elemts in array to integers\n",
    "    \n",
    "\n",
    "    ## play around with size of grid to sum over\n",
    "\n",
    "    size = 5\n",
    "\n",
    "    \n",
    "    CER = np.ma.masked_array(CER, mask = ~lwc_mask) ## mask out where lwc is not present this needs ~ since lwc mask is true when lwc is present\n",
    "    COD = np.ma.masked_array(COD, mask = ~lwc_mask) ## mask out where lwc is not present this needs ~ since lwc mask is true when lwc is present\n",
    "\n",
    "   \n",
    "\n",
    "    \n",
    "    \n",
    "    for k in range(n_trajectories):\n",
    "\n",
    "        tot_cloud = 0\n",
    "\n",
    "        if len(GOES_index) == 0: ## this is hacky and needs to be fixed!!!\n",
    "            continue\n",
    "        \n",
    "        for n in range(-size,size+1):\n",
    "            for m in range(-size,size+1):\n",
    "        \n",
    "                \n",
    "                try:\n",
    "                    tot_cloud += clear_sky_mask[GOES_index[k,1]+n,GOES_index[k,0]+m] ## sum up the clear sky mask in a 5x5 grid around the pixel closest to the parcel\n",
    "                except IndexError:\n",
    "                    print('You have fallen off the edge of the swath!')\n",
    "                    pass\n",
    "\n",
    "        CF[k,i,:,:] = tot_cloud/(2*size +1)**2\n",
    "\n",
    "        try:\n",
    "\n",
    "            GOES_LWP[k,i,:,:] = 5/9 * rho_w * CER[GOES_index[k,1],GOES_index[k,0]] * COD[GOES_index[k,1],GOES_index[k,0]] ## calculate the liquid water path in g/m^2 check units!!\n",
    "\n",
    "            timestamp_array = np.full(positions_all[k,i,1,:,:].flatten().shape, GOES_timestamps[i]) ## create an array of the same shape as the GOES granule with the timestamp of the granule\n",
    "            solar_position = pvlib.solarposition.get_solarposition(timestamp_array,positions_all[k,i,1,:,:].flatten(),positions_all[k,i,0,:,:].flatten()) ## calculate the solar position at the time of the GOES granule\n",
    "            zenith = solar_position['zenith'].to_numpy() ## store the solar zenith angle\n",
    "            azimuth = solar_position['azimuth'].to_numpy() ## store the solar azimuth angle\n",
    "            solar_zenith[k,i,:,:] = zenith.reshape(positions_all[k,i,1,:,:].shape) ## reshape the zenith angle to the shape of the GOES granule\n",
    "            solar_azimuth[k,i,:,:] = azimuth.reshape(positions_all[k,i,1,:,:].shape) ## reshape the azimuth angle to the shape of the GOES granule\n",
    "\n",
    "        except IndexError:\n",
    "            print('You have fallen off the edge of the swath!')\n",
    "            pass\n",
    "\n",
    "    \n",
    "print(i)\n",
    "\n",
    "    \n",
    "#CF = np.array(CF) ## convert to numpy array \n",
    "\n",
    "#GOES_LWP = np.array(GOES_LWP)\n"
   ]
  },
  {
   "cell_type": "code",
   "execution_count": 9,
   "metadata": {},
   "outputs": [
    {
     "name": "stdout",
     "output_type": "stream",
     "text": [
      "[Timestamp('2020-04-02 15:00:00') Timestamp('2020-04-02 15:00:00')\n",
      " Timestamp('2020-04-02 15:00:00') ... Timestamp('2020-04-02 15:00:00')\n",
      " Timestamp('2020-04-02 15:00:00') Timestamp('2020-04-02 15:00:00')]\n"
     ]
    }
   ],
   "source": [
    "print(timestamp_array)"
   ]
  },
  {
   "cell_type": "code",
   "execution_count": 10,
   "metadata": {},
   "outputs": [
    {
     "name": "stdout",
     "output_type": "stream",
     "text": [
      "(10000,)\n",
      "(10000,)\n",
      "(1, 49, 100, 100)\n"
     ]
    }
   ],
   "source": [
    "print(timestamp_array.shape)\n",
    "print(zenith.shape)\n",
    "print(solar_zenith.shape)"
   ]
  },
  {
   "cell_type": "code",
   "execution_count": 11,
   "metadata": {},
   "outputs": [
    {
     "name": "stdout",
     "output_type": "stream",
     "text": [
      "[[[1000 1039 1010 ... 1316 1490 1326]\n",
      "  [1000 1005 1010 ... 1317 1321 1326]\n",
      "  [1000 1005 1010 ... 1318 1321 1326]\n",
      "  ...\n",
      "  [1000 1005  638 ... 1485 1490 1495]\n",
      "  [1000 1005 1010 ... 1485 1490 1495]\n",
      "  [1000 1005 1010 ... 1485 1490 1495]]\n",
      "\n",
      " [[ 498  298  498 ...  593  498  598]\n",
      "  [ 503  503  503 ...  596  597  600]\n",
      "  [ 508  508  508 ...  599  600  602]\n",
      "  ...\n",
      "  [ 983  983  981 ...  983  983  983]\n",
      "  [ 988  988  988 ...  988  988  988]\n",
      "  [ 993  993  993 ...  993  993  993]]]\n"
     ]
    }
   ],
   "source": [
    "print(GOES_index[0])"
   ]
  },
  {
   "cell_type": "code",
   "execution_count": 12,
   "metadata": {},
   "outputs": [
    {
     "name": "stdout",
     "output_type": "stream",
     "text": [
      "(2, 100, 100)\n"
     ]
    }
   ],
   "source": [
    "print(positions_all[j,i,:,:,:].shape)"
   ]
  },
  {
   "cell_type": "code",
   "execution_count": 13,
   "metadata": {},
   "outputs": [],
   "source": [
    "# initialize CF_test array, this will store the CF values, reshapes CF so that all the rows correspond to the same time since the trjactory was launched\n",
    "\n",
    "#CF_test = np.zeros((n_trajectories,int(datetime.timedelta(hours=time_advected).total_seconds() / time_step.total_seconds())+1,int(region_size/resample_size),int(region_size/resample_size))) ## stores the CF values, reshapes CF so that all the rows correspond to the same time since the trjactory was launched\n",
    "\n",
    "GOES_LWP_reshaped = np.ma.empty(shape = (n_trajectories,int(datetime.timedelta(hours=time_advected).total_seconds() / time_step.total_seconds())+1,int(region_size/resample_size),int(region_size/resample_size))) ## stores the CF values, reshapes CF so that all the rows correspond to the same time since the trjactory was launched\n",
    "AMSR_LWP_reshaped = np.ma.empty(shape = (n_trajectories,int(datetime.timedelta(hours=time_advected).total_seconds() / time_step.total_seconds())+1,int(region_size/resample_size),int(region_size/resample_size))) ## stores the CF values, reshapes CF so that all the rows correspond to the same time since the trjactory was launched\n",
    "positions_reshaped = np.ma.empty(shape = (n_trajectories,int(datetime.timedelta(hours=time_advected).total_seconds() / time_step.total_seconds())+1,2,int(region_size/resample_size),int(region_size/resample_size))) ## stores the CF values, reshapes CF so that all the rows correspond to the same time since the trjactory was launched\n",
    "solar_zenith_reshaped = np.ma.empty(shape = (n_trajectories,int(datetime.timedelta(hours=time_advected).total_seconds() / time_step.total_seconds())+1,int(region_size/resample_size),int(region_size/resample_size))) ## stores the CF values, reshapes CF so that all the rows correspond to the same time since the trjactory was launched\n",
    "solar_azimuth_reshaped = np.ma.empty(shape = (n_trajectories,int(datetime.timedelta(hours=time_advected).total_seconds() / time_step.total_seconds())+1,int(region_size/resample_size),int(region_size/resample_size))) ## stores the CF values, reshapes CF so that all the rows correspond to the same time since the trjactory was launched\n",
    "CF_reshaped = np.ma.empty(shape = (n_trajectories,int(datetime.timedelta(hours=time_advected).total_seconds() / time_step.total_seconds())+1,int(region_size/resample_size),int(region_size/resample_size))) ## stores the CF values, reshapes CF so that all the rows correspond to the same time since the trjactory was launched\n",
    "\n",
    "for i in range(n_trajectories):\n",
    "    CF_reshaped[i,0:int(datetime.timedelta(hours=time_advected).total_seconds() / time_step.total_seconds())+1,:,:] = CF[i,i*int(time_between_trajectroies/time_step):i*int(time_between_trajectroies/time_step)+int(datetime.timedelta(hours=time_advected).total_seconds() / time_step.total_seconds()) +1,:,:]\n",
    "    GOES_LWP_reshaped[i,0:int(datetime.timedelta(hours=time_advected).total_seconds() / time_step.total_seconds())+1,:,:] = GOES_LWP[i,i*int(time_between_trajectroies/time_step):i*int(time_between_trajectroies/time_step)+int(datetime.timedelta(hours=time_advected).total_seconds() / time_step.total_seconds()) +1,:,:]\n",
    "    AMSR_LWP_reshaped[i,0:int(datetime.timedelta(hours=time_advected).total_seconds() / time_step.total_seconds())+1,:,:] = AMSR_LWP[i,i*int(time_between_trajectroies/time_step):i*int(time_between_trajectroies/time_step)+int(datetime.timedelta(hours=time_advected).total_seconds() / time_step.total_seconds()) +1,:,:]\n",
    "    positions_reshaped[i,0:int(datetime.timedelta(hours=time_advected).total_seconds() / time_step.total_seconds())+1,:,:,:] = positions_all[i,i*int(time_between_trajectroies/time_step):i*int(time_between_trajectroies/time_step)+int(datetime.timedelta(hours=time_advected).total_seconds() / time_step.total_seconds()) +1,:,:,:]\n",
    "    solar_zenith_reshaped[i,0:int(datetime.timedelta(hours=time_advected).total_seconds() / time_step.total_seconds())+1,:,:] = solar_zenith[i,i*int(time_between_trajectroies/time_step):i*int(time_between_trajectroies/time_step)+int(datetime.timedelta(hours=time_advected).total_seconds() / time_step.total_seconds()) +1,:,:]\n",
    "    solar_azimuth_reshaped[i,0:int(datetime.timedelta(hours=time_advected).total_seconds() / time_step.total_seconds())+1,:,:] = solar_azimuth[i,i*int(time_between_trajectroies/time_step):i*int(time_between_trajectroies/time_step)+int(datetime.timedelta(hours=time_advected).total_seconds() / time_step.total_seconds()) +1,:]\n",
    "\n",
    "\n",
    "# mask out NaN values\n",
    "\n",
    "#CF_test = np.ma.masked_invalid(CF_test)\n",
    "\n",
    "## ignore repeated indices for obvious reasons!\n",
    "\n",
    "index_to_skip = np.unique(index_to_skip)\n",
    "\n",
    "\n",
    "\n",
    "GOES_LWP_reshaped = np.ma.masked_invalid(GOES_LWP_reshaped)\n",
    "AMSR_LWP_reshaped = np.ma.masked_invalid(AMSR_LWP_reshaped)\n",
    "\n",
    "sensor_zenith_reshaped = LWP_correction_funcs.senor_azimuth_angle(positions_reshaped[:,:,0,:,:],positions_reshaped[:,:,1,:,:])\n",
    "sensor_azimuth_reshaped = LWP_correction_funcs.senor_azimuth_angle(positions_reshaped[:,:,0,:,:],positions_reshaped[:,:,1,:,:])\n",
    "\n",
    "relative_azimuth = solar_azimuth_reshaped - sensor_azimuth_reshaped\n",
    "\n",
    "cos_solar_zenith = np.cos(solar_zenith_reshaped)\n",
    "\n",
    "cos_sensor_zenith = np.cos(sensor_zenith_reshaped)"
   ]
  },
  {
   "cell_type": "code",
   "execution_count": 14,
   "metadata": {},
   "outputs": [
    {
     "name": "stdout",
     "output_type": "stream",
     "text": [
      "-0.047266748110191145\n",
      "-0.047266748110191145\n",
      "-0.45787598980180694 0.20622142356554043\n",
      "-0.45787598980180694 0.20622142356554043\n"
     ]
    }
   ],
   "source": [
    "print(np.mean(sensor_zenith_reshaped))\n",
    "print(np.mean(sensor_azimuth_reshaped))\n",
    "print(sensor_zenith_reshaped.min(),sensor_zenith_reshaped.max())\n",
    "print(sensor_azimuth_reshaped.min(),sensor_azimuth_reshaped.max())"
   ]
  },
  {
   "cell_type": "code",
   "execution_count": 15,
   "metadata": {},
   "outputs": [
    {
     "name": "stdout",
     "output_type": "stream",
     "text": [
      "(1, 49, 100, 100)\n",
      "(1, 49, 100, 100)\n",
      "(1, 49, 100, 100)\n"
     ]
    }
   ],
   "source": [
    "#print(relative_azimuth.shape)\n",
    "print(CF_reshaped.shape)\n",
    "print(cos_sensor_zenith.shape)\n",
    "print(cos_solar_zenith.shape)"
   ]
  },
  {
   "cell_type": "code",
   "execution_count": 16,
   "metadata": {},
   "outputs": [],
   "source": [
    "nc_file = Dataset('goes_17_lookup_table.nc', 'r')\n",
    "\n",
    "LWP_correctional_factors = nc_file.variables['lwp_correctional_factors'][:]\n",
    "\n",
    "index_cos_solar_zenith = np.digitize(cos_solar_zenith,nc_file.variables['cosine_solar_zenith_mids'])\n",
    "index_cos_sensor_zenith = np.digitize(cos_sensor_zenith,nc_file.variables['cosine_sensor_zenith_mids'])\n",
    "index_relative_azimuth = np.digitize(relative_azimuth,nc_file.variables['relative_azimuth_mids'])\n",
    "index_low_cloud_fraction = np.digitize(CF_reshaped,nc_file.variables['low_cloud_fraction_mids'])\n",
    "\n",
    "\n",
    "\n",
    "\n",
    "lwp_correction_factors = LWP_correctional_factors[index_cos_solar_zenith-1, index_cos_sensor_zenith-1, index_relative_azimuth-1, index_low_cloud_fraction-1]  ## because of zero based indexing\n",
    "\n",
    "LWP_corrected = GOES_LWP_reshaped * lwp_correction_factors\n",
    "\n",
    "\n",
    "\n",
    "nc_file.close()"
   ]
  },
  {
   "cell_type": "code",
   "execution_count": 17,
   "metadata": {},
   "outputs": [
    {
     "name": "stdout",
     "output_type": "stream",
     "text": [
      "(1, 49, 100, 100)\n"
     ]
    }
   ],
   "source": [
    "zenith_mask = (solar_zenith_reshaped > 70) | (sensor_zenith_reshaped > 65)\n",
    "\n",
    "print(zenith_mask.shape)\n",
    "\n",
    "#print(mean_corrected_LWP_clean.shape)"
   ]
  },
  {
   "cell_type": "code",
   "execution_count": 18,
   "metadata": {},
   "outputs": [
    {
     "name": "stdout",
     "output_type": "stream",
     "text": [
      "301901\n",
      "188099\n",
      "[[[[-0.1537116592201313 -0.1505565502937498 -0.1473991899933937 ...\n",
      "    0.15573912024546505 0.15888739567810833 0.1620332453587377]\n",
      "   [-0.15395308260738766 -0.15079302172017606 -0.14763069266880824 ...\n",
      "    0.15600392441353578 0.15915711186185183 0.1623078557571798]\n",
      "   [-0.15419738227666013 -0.1510323127857649 -0.14786495817340456 ...\n",
      "    0.15627160429275977 0.15942975985548252 0.16258545388497225]\n",
      "   ...\n",
      "   [-0.1925978669170219 -0.18866345435544396 -0.18472380763660814 ...\n",
      "    0.19707250729661163 0.20099227344879378 0.20490644921844667]\n",
      "   [-0.19320006012549662 -0.18925380918320492 -0.185302269601544 ...\n",
      "    0.1977038301832223 0.20163528808750442 0.2055610979342702]\n",
      "   [-0.19380760977174516 -0.18984942172618044 -0.1858858897664707 ...\n",
      "    0.19834063771108257 0.20228388392096092 0.20622142356554043]]\n",
      "\n",
      "  [[-0.1537116592201313 -0.1519968991177395 -0.1473991899933937 ...\n",
      "    0.15485198687904106 0.15888739567810833 0.1614082893742648]\n",
      "   [-0.15395308260738766 -0.15079302172017606 -0.14763069266880824 ...\n",
      "    0.1550691893951155 0.15826438354729108 0.16160796486679657]\n",
      "   [-0.15419738227666013 -0.1510323127857649 -0.14786495817340456 ...\n",
      "    0.15529396541044277 0.15845413170105022 0.1618092967849717]\n",
      "   ...\n",
      "   [-0.1925978669170219 -0.18866345435544396 -0.19032911092706412 ...\n",
      "    0.19707250729661163 0.20099227344879378 0.20490644921844667]\n",
      "   [-0.19320006012549662 -0.18925380918320492 -0.185302269601544 ...\n",
      "    0.1977038301832223 0.20163528808750442 0.2055610979342702]\n",
      "   [-0.19380760977174516 -0.18984942172618044 -0.1858858897664707 ...\n",
      "    0.19834063771108257 0.20228388392096092 0.20622142356554043]]\n",
      "\n",
      "  [[-0.1537116592201313 -0.15341890141213785 -0.1473991899933937 ...\n",
      "    0.15394550326237066 0.15888739567810833 0.1606600422683312]\n",
      "   [-0.15395308260738766 -0.15079302172017606 -0.14763069266880824 ...\n",
      "    0.15410859652961303 0.1572245609216833 0.16076418150826244]\n",
      "   [-0.15419738227666013 -0.1510323127857649 -0.14786495817340456 ...\n",
      "    0.15428374823703714 0.15732472770521133 0.16086810458275064]\n",
      "   ...\n",
      "   [-0.1925978669170219 -0.18866345435544396 -0.1960021171745252 ...\n",
      "    0.19707250729661163 0.20099227344879378 0.20490644921844667]\n",
      "   [-0.19320006012549662 -0.18925380918320492 -0.185302269601544 ...\n",
      "    0.1977038301832223 0.20163528808750442 0.2055610979342702]\n",
      "   [-0.19380760977174516 -0.18984942172618044 -0.1858858897664707 ...\n",
      "    0.19834063771108257 0.20228388392096092 0.20622142356554043]]\n",
      "\n",
      "  ...\n",
      "\n",
      "  [[-0.1537116592201313 -0.12829611886936093 -0.1473991899933937 ...\n",
      "    0.055346481835039964 0.15888739567810833 0.06290295795095]\n",
      "   [-0.15395308260738766 -0.15079302172017606 -0.14763069266880824 ...\n",
      "    0.05615042077373027 0.05900893651706107 0.06268331853349723]\n",
      "   [-0.15419738227666013 -0.1510323127857649 -0.14786495817340456 ...\n",
      "    0.057001499793959534 0.05944235311505832 0.0625446754115475]\n",
      "   ...\n",
      "   [-0.1925978669170219 -0.18866345435544396 -0.44855059602693625 ...\n",
      "    0.19707250729661163 0.20099227344879378 0.20490644921844667]\n",
      "   [-0.19320006012549662 -0.18925380918320492 -0.185302269601544 ...\n",
      "    0.1977038301832223 0.20163528808750442 0.2055610979342702]\n",
      "   [-0.19380760977174516 -0.18984942172618044 -0.1858858897664707 ...\n",
      "    0.19834063771108257 0.20228388392096092 0.20622142356554043]]\n",
      "\n",
      "  [[-0.1537116592201313 -0.1257089696134724 -0.1473991899933937 ...\n",
      "    0.052574143406419034 0.15888739567810833 0.06000545441573839]\n",
      "   [-0.15395308260738766 -0.15079302172017606 -0.14763069266880824 ...\n",
      "    0.05340675314942145 0.05621050196437764 0.059804144101371665]\n",
      "   [-0.15419738227666013 -0.1510323127857649 -0.14786495817340456 ...\n",
      "    0.0542841689187398 0.05665345202261999 0.05964606206454263]\n",
      "   ...\n",
      "   [-0.1925978669170219 -0.18866345435544396 -0.45320278936589253 ...\n",
      "    0.19707250729661163 0.20099227344879378 0.20490644921844667]\n",
      "   [-0.19320006012549662 -0.18925380918320492 -0.185302269601544 ...\n",
      "    0.1977038301832223 0.20163528808750442 0.2055610979342702]\n",
      "   [-0.19380760977174516 -0.18984942172618044 -0.1858858897664707 ...\n",
      "    0.19834063771108257 0.20228388392096092 0.20622142356554043]]\n",
      "\n",
      "  [[-0.1537116592201313 -0.12307500348721666 -0.1473991899933937 ...\n",
      "    0.049808517386810275 0.15888739567810833 0.05711102644183808]\n",
      "   [-0.15395308260738766 -0.15079302172017606 -0.14763069266880824 ...\n",
      "    0.050673151519240275 0.05342026779779519 0.05691351194899279]\n",
      "   [-0.15419738227666013 -0.1510323127857649 -0.14786495817340456 ...\n",
      "    0.05157048944339307 0.05385458596236537 0.056733985364830986]\n",
      "   ...\n",
      "   [-0.1925978669170219 -0.18866345435544396 -0.45787598980180694 ...\n",
      "    0.19707250729661163 0.20099227344879378 0.20490644921844667]\n",
      "   [-0.19320006012549662 -0.18925380918320492 -0.185302269601544 ...\n",
      "    0.1977038301832223 0.20163528808750442 0.2055610979342702]\n",
      "   [-0.19380760977174516 -0.18984942172618044 -0.1858858897664707 ...\n",
      "    0.19834063771108257 0.20228388392096092 0.20622142356554043]]]]\n"
     ]
    }
   ],
   "source": [
    "print(np.sum(zenith_mask))\n",
    "print(np.sum(~zenith_mask))\n",
    "\n",
    "print(sensor_zenith_reshaped)"
   ]
  },
  {
   "cell_type": "code",
   "execution_count": 19,
   "metadata": {},
   "outputs": [
    {
     "name": "stdout",
     "output_type": "stream",
     "text": [
      "(49, 2, 100, 100)\n",
      "(1, 49, 2, 100, 100)\n",
      "(1, 49, 2, 100, 100)\n"
     ]
    }
   ],
   "source": [
    "print(positions.shape)\n",
    "print(positions_all.shape)\n",
    "print(positions_reshaped.shape)"
   ]
  },
  {
   "cell_type": "code",
   "execution_count": 20,
   "metadata": {},
   "outputs": [],
   "source": [
    "\n",
    "\n",
    "GOES_cloud_mask = GOES_LWP_reshaped.mask ## note thois is false if there is a cloud ie.e. cloudy pixels are not masked!\n",
    "\n",
    "\n",
    "AMSR_mask = GOES_LWP_reshaped.mask | AMSR_LWP_reshaped.mask\n",
    "\n",
    "AMSR_LWP_reshaped = np.ma.array(AMSR_LWP_reshaped, mask = AMSR_mask)\n"
   ]
  },
  {
   "cell_type": "code",
   "execution_count": 21,
   "metadata": {},
   "outputs": [
    {
     "name": "stdout",
     "output_type": "stream",
     "text": [
      "426075\n"
     ]
    }
   ],
   "source": [
    "\n",
    "AMSR_LWP_reshaped = np.ma.array(AMSR_LWP_reshaped, mask = AMSR_mask)\n",
    "\n",
    "print(np.sum(AMSR_LWP_reshaped.mask))"
   ]
  },
  {
   "cell_type": "code",
   "execution_count": 22,
   "metadata": {},
   "outputs": [
    {
     "name": "stdout",
     "output_type": "stream",
     "text": [
      "0.40299999713897705\n",
      "444263\n"
     ]
    }
   ],
   "source": [
    "## sort out AMSR data\n",
    "\n",
    "AMSR_LWP_reshaped = np.ma.masked_less_equal(AMSR_LWP_reshaped,0)\n",
    "\n",
    "print(AMSR_LWP_reshaped.min())\n",
    "print(np.sum(AMSR_LWP_reshaped.mask))"
   ]
  },
  {
   "cell_type": "code",
   "execution_count": 23,
   "metadata": {},
   "outputs": [
    {
     "name": "stdout",
     "output_type": "stream",
     "text": [
      "dict_keys(['longitude', 'latitude', 'level', 'time', 'aermr04', 'aermr06', 'aermr09', 'aermr07', 'aermr10', 'aermr08', 'aermr01', 'aermr02', 'aermr03', 'aermr11', 'so2'])\n"
     ]
    }
   ],
   "source": [
    "# Path to the NetCDF file\n",
    "file_path = f'/disk1/Data/CAMS/aerosol_levels/{year}/04/{year}-04-01-{year}-04-30.nc'\n",
    "\n",
    "# Open the NetCDF file\n",
    "nc_file = Dataset(file_path)\n",
    "\n",
    "so2_data = nc_file.variables['aermr11'][:]\n",
    "\n",
    "time_data = nc_file.variables['time'][:]\n",
    "\n",
    "level_data = nc_file.variables['level'][:]\n",
    "\n",
    "lon = nc_file.variables['longitude'][:]\n",
    "\n",
    "lat = nc_file.variables['latitude'][:]\n",
    "\n",
    "print(nc_file.variables.keys())"
   ]
  },
  {
   "cell_type": "code",
   "execution_count": 24,
   "metadata": {},
   "outputs": [],
   "source": [
    "## sort out times, hours since 1900 blah blah blah\n",
    "\n",
    "time_mask = time_data.mask\n",
    "\n",
    "timedelta_array = np.array([timedelta(hours=int(h)) for h in time_data.data])\n",
    "\n",
    "reference_date = datetime.datetime(1900, 1, 1, 0, 0, 0)\n",
    "\n",
    "CAMS_times = reference_date + timedelta_array ## note times are UTC"
   ]
  },
  {
   "cell_type": "code",
   "execution_count": 25,
   "metadata": {},
   "outputs": [],
   "source": [
    "CAMS_times_sliced1 = CAMS_times[5:]  # remove first five timesteps so we start at 15:00 UTC this is a bit hacky and could be generalized\n",
    "\n",
    "CAMS_times_sliced = CAMS_times_sliced1[::int(time_advected/3)]  ## select every 8th time step, so each time step is 24 hours apart, 16 here corresponds to 48 hours"
   ]
  },
  {
   "cell_type": "code",
   "execution_count": 26,
   "metadata": {},
   "outputs": [],
   "source": [
    "so2_data_sliced1 = so2_data[5:,:,:,:] # remove first five timesteps so we start at 15:00 UTC\n",
    "\n",
    "so2_data_sliced = so2_data_sliced1[::int(time_advected/3),8,:,:] ## 8th pressure level corresponds to 900hPa so that the array has the form (day,lat,lon)\n",
    "\n",
    "so2_data_sliced = so2_data_sliced[:n_trajectories,:,:] ## slice the data so it has the same number of trajectories as the GOES data"
   ]
  },
  {
   "cell_type": "code",
   "execution_count": 27,
   "metadata": {},
   "outputs": [],
   "source": [
    "so2_data_colocated = [] # initialize list to store colocated SO2 data\n",
    "\n",
    "## this loop is to fund the initial SO2 conecentration at the initial position of the parcel\n",
    "## check that this does what uop think it does\n",
    "\n",
    "\n",
    "for i in range(n_trajectories): # \n",
    "    init_position = init_position_all[i]\n",
    "    init_lon = init_position[0]\n",
    "    init_lat = init_position[1]\n",
    "    so2_data_loop = so2_data_sliced[i,:,:]\n",
    "    \n",
    "    lat_diff = np.abs(init_lat[:, :, np.newaxis] -lat) \n",
    "\n",
    "    lat_indices = np.argmin(lat_diff, axis=-1)\n",
    "\n",
    "    lon_diff = np.abs(init_lon[:, :, np.newaxis] - lon)\n",
    "    lon_indices = np.argmin(lon_diff, axis=-1)\n",
    "\n",
    "    so2_data = so2_data_sliced[i,:,:] ## format (lat,lon)\n",
    "\n",
    "    so2_data_colocated.append(so2_data[lat_indices,lon_indices])\n",
    "\n",
    "so2_data_colocated = np.array(so2_data_colocated)"
   ]
  },
  {
   "cell_type": "code",
   "execution_count": 28,
   "metadata": {},
   "outputs": [
    {
     "name": "stdout",
     "output_type": "stream",
     "text": [
      "(49, 2, 100, 100)\n",
      "(1, 49, 2, 100, 100)\n"
     ]
    }
   ],
   "source": [
    "print(positions.shape)\n",
    "print(positions_all.shape)"
   ]
  },
  {
   "cell_type": "code",
   "execution_count": 29,
   "metadata": {},
   "outputs": [
    {
     "data": {
      "image/png": "[encoded data removed]",
      "text/plain": [
       "<Figure size 640x480 with 1 Axes>"
      ]
     },
     "metadata": {},
     "output_type": "display_data"
    }
   ],
   "source": [
    "plt.hist(so2_data_colocated.flatten(), bins=30, edgecolor='black')\n",
    "\n",
    "# Calculate the median value\n",
    "median_value = np.median(so2_data_colocated)\n",
    "\n",
    "# Add a vertical line for the median value\n",
    "plt.axvline(x=median_value, color='red', linestyle='--', label=f'Median: {median_value:}')\n",
    "\n",
    "# Add labels and title\n",
    "plt.xlabel('Sulphate Aerosol Mixing Ratio @ 900hPa / kg kg$^{-1}$')\n",
    "plt.ylabel('Frequency')\n",
    "plt.title('Histogram')\n",
    "plt.legend()\n",
    "\n",
    "# Show the plot\n",
    "plt.show()"
   ]
  },
  {
   "cell_type": "code",
   "execution_count": 30,
   "metadata": {},
   "outputs": [
    {
     "name": "stdout",
     "output_type": "stream",
     "text": [
      "5.335690348207518e-10\n"
     ]
    }
   ],
   "source": [
    "sulphate_critical = np.median(so2_data_colocated.flatten())\n",
    "\n",
    "print(sulphate_critical)#\n",
    "\n",
    "\n",
    "clean = so2_data_colocated < np.median(so2_data_colocated.flatten())  # define the condition for clean initial atmospheric condition, so2 concentrations less than 1e-15 kg/kg are True\n",
    "\n",
    "\n",
    "GOES_LWP_transposed = np.transpose(GOES_LWP_reshaped, (1,0,2,3)) ## transpose the CF data so that the time is the first axis, this is so we can use the np.where function to find the indices of the clean and polluted conditions\n",
    "LWP_corrected_transposed = np.transpose(LWP_corrected,(1,0,2,3))\n",
    "GOES_cloud_mask = np.transpose(GOES_cloud_mask,(1,0,2,3)) ## transpose cloud mask so everything has same shape\n",
    "AMSR_mask = np.transpose(AMSR_mask,(1,0,2,3))\n",
    "zenith_mask_transposed = np.transpose(zenith_mask,(1,0,2,3))\n",
    "\n",
    "AMSR_LWP_transposed = np.transpose(AMSR_LWP_reshaped, (1,0,2,3))\n",
    "positions_transposed = np.transpose(positions_reshaped, (1,2,0,3,4)) ## transpose the positions data so that the time is the first axis, this is so we can use the np.where function to find the indices of the clean and polluted conditions\n",
    "\n",
    "lon_time = positions_transposed[:,0,:,:,:] ## extract the lon and lat data from the positions data\n",
    "lat_time = positions_transposed[:,1,:,:,:]\n",
    "\n",
    "\n",
    "clean_expanded = np.expand_dims(clean, axis=0)  # Shape: (1, 10, 100, 100)\n",
    "\n",
    "# Repeat clean along the first axis to match the number of timesteps in CF_transposed\n",
    "clean_repeated = np.repeat(clean_expanded, len(GOES_LWP_transposed), axis=0) "
   ]
  },
  {
   "cell_type": "code",
   "execution_count": 31,
   "metadata": {},
   "outputs": [],
   "source": [
    "## sort GOES stuff out\n",
    "GOES_LWP_clean = ma.masked_array(GOES_LWP_transposed, mask=(~clean_repeated | GOES_cloud_mask))/1000 ## divide by 1000 so the units are g/m^2\n",
    "GOES_LWP_polluted = ma.masked_array(GOES_LWP_transposed, mask=(clean_repeated|GOES_cloud_mask) )/1000\n",
    "\n",
    "LWP_corrected_clean = ma.masked_array(LWP_corrected_transposed, mask=(~clean_repeated | GOES_cloud_mask|zenith_mask_transposed))/1000\n",
    "LWP_corrected_polluted = ma.masked_array(LWP_corrected_transposed, mask=(clean_repeated | GOES_cloud_mask|zenith_mask_transposed))/1000\n",
    "\n",
    "mean_GOES_LWP_clean= np.mean(GOES_LWP_clean, axis=(1, 2, 3))\n",
    "mean_GOES_LWP_polluted = np.mean(GOES_LWP_polluted, axis=(1, 2, 3))\n",
    "mean_corrected_LWP_clean = np.mean(LWP_corrected_clean,axis=(1,2,3))\n",
    "mean_corrected_LWP_polluted = np.mean(LWP_corrected_polluted,axis=(1,2,3))\n",
    "\n",
    "## repeat for AMSR\n",
    "\n",
    "AMSR_LWP_clean = ma.masked_array(AMSR_LWP_transposed, mask=(~clean_repeated|AMSR_mask))\n",
    "AMSR_LWP_polluted = ma.masked_array(AMSR_LWP_transposed, mask=(clean_repeated|AMSR_mask))\n",
    "\n",
    "mean_AMSR_LWP_clean= np.mean(AMSR_LWP_clean, axis=(1, 2, 3))\n",
    "mean_AMSR_LWP_polluted = np.mean(AMSR_LWP_polluted, axis=(1, 2, 3))\n",
    "\n",
    "\n",
    "lon_clean = ma.masked_array(lon_time, mask=(~clean_repeated|GOES_cloud_mask))\n",
    "lon_polluted = ma.masked_array(lon_time, mask=(clean_repeated|GOES_cloud_mask))\n",
    "lat_clean = ma.masked_array(lat_time, mask=(~clean_repeated|GOES_cloud_mask))\n",
    "lat_polluted = ma.masked_array(lat_time, mask=(clean_repeated|GOES_cloud_mask))"
   ]
  },
  {
   "cell_type": "code",
   "execution_count": 32,
   "metadata": {},
   "outputs": [],
   "source": [
    "lon_clean = ma.masked_array(lon_time, mask=(~clean_repeated))\n",
    "lon_polluted = ma.masked_array(lon_time, mask=(clean_repeated))\n",
    "lat_clean = ma.masked_array(lat_time, mask=(~clean_repeated))\n",
    "lat_polluted = ma.masked_array(lat_time, mask=(clean_repeated))"
   ]
  },
  {
   "cell_type": "code",
   "execution_count": 33,
   "metadata": {},
   "outputs": [],
   "source": [
    "\n",
    "LWP_corrected_clean = ma.masked_array(LWP_corrected_transposed, mask=(~clean_repeated | GOES_cloud_mask|zenith_mask_transposed))/1000\n",
    "LWP_corrected_polluted = ma.masked_array(LWP_corrected_transposed, mask=(clean_repeated | GOES_cloud_mask|zenith_mask_transposed))/1000"
   ]
  },
  {
   "cell_type": "code",
   "execution_count": 34,
   "metadata": {},
   "outputs": [
    {
     "name": "stdout",
     "output_type": "stream",
     "text": [
      "301901\n",
      "188099\n"
     ]
    }
   ],
   "source": [
    "print(np.sum(zenith_mask_transposed))\n",
    "print(np.sum(~zenith_mask_transposed))"
   ]
  },
  {
   "cell_type": "code",
   "execution_count": 35,
   "metadata": {},
   "outputs": [],
   "source": [
    "mean_AMSR_LWP_clean = np.ma.masked_equal(mean_AMSR_LWP_clean, 0)\n",
    "mean_AMSR_LWP_polluted = np.ma.masked_equal(mean_AMSR_LWP_polluted, 0)"
   ]
  },
  {
   "cell_type": "code",
   "execution_count": 36,
   "metadata": {},
   "outputs": [],
   "source": [
    "# what does this cell do?\n",
    "\n",
    "lon_clean_reshaped = lon_clean.reshape((len(lon_clean),-1))\n",
    "lat_clean_reshaped = lat_clean.reshape((len(lat_clean),-1))\n",
    "lon_polluted_reshaped = lon_polluted.reshape((len(lon_polluted),-1))\n",
    "lat_polluted_reshaped = lat_polluted.reshape((len(lat_polluted),-1))"
   ]
  },
  {
   "cell_type": "code",
   "execution_count": 37,
   "metadata": {},
   "outputs": [
    {
     "name": "stdout",
     "output_type": "stream",
     "text": [
      "246470\n",
      "246470\n",
      "243530\n",
      "243530\n"
     ]
    }
   ],
   "source": [
    "print(np.sum(lon_clean_reshaped.mask))\n",
    "print(np.sum(lat_clean_reshaped.mask))\n",
    "print(np.sum(lon_polluted_reshaped.mask))\n",
    "print(np.sum(lat_polluted_reshaped.mask))"
   ]
  },
  {
   "cell_type": "code",
   "execution_count": 38,
   "metadata": {},
   "outputs": [
    {
     "name": "stdout",
     "output_type": "stream",
     "text": [
      "(49, 10000)\n",
      "(49, 10000)\n"
     ]
    }
   ],
   "source": [
    "print(lon_clean_reshaped.shape)\n",
    "print(lat_clean_reshaped.shape)"
   ]
  },
  {
   "cell_type": "code",
   "execution_count": 39,
   "metadata": {},
   "outputs": [
    {
     "name": "stdout",
     "output_type": "stream",
     "text": [
      "-148.0478869003626 -131.40866811332654\n",
      "24.677785103692738 41.28405946527902\n"
     ]
    }
   ],
   "source": [
    "print(np.min(lon_clean_reshaped),np.max(lon_clean_reshaped))\n",
    "print(np.min(lat_clean_reshaped),np.max(lat_clean_reshaped))"
   ]
  },
  {
   "cell_type": "code",
   "execution_count": 40,
   "metadata": {},
   "outputs": [
    {
     "name": "stdout",
     "output_type": "stream",
     "text": [
      "[-- -- -- 170.55697434373587 139.0747027090446 124.89751283551965\n",
      " 115.70646377464713 109.7976779291171 74.07501325095606 89.96972940074316\n",
      " -0.10965602307851138 81.36713681055048 79.68330564869281\n",
      " 79.48491838583969 84.57092223593308 81.91639316306215 87.82725055926316\n",
      " 80.15098666327698 94.87407790455909 129.66532904668335 120.63579305982209\n",
      " 150.46083770672146 141.7547349316126 -- -- -- -- -- -- -- -- -- -- -- --\n",
      " -- -- -- -- -- -- -- -- -- -- -- -- -- --]\n"
     ]
    }
   ],
   "source": [
    "print(mean_corrected_LWP_clean)"
   ]
  },
  {
   "cell_type": "code",
   "execution_count": 41,
   "metadata": {},
   "outputs": [
    {
     "data": {
      "image/png": "[encoded data removed]",
      "text/plain": [
       "<Figure size 640x480 with 1 Axes>"
      ]
     },
     "metadata": {},
     "output_type": "display_data"
    }
   ],
   "source": [
    "plt.plot(mean_corrected_LWP_clean)\n",
    "plt.plot(mean_corrected_LWP_polluted)\n",
    "plt.show()"
   ]
  },
  {
   "cell_type": "code",
   "execution_count": 42,
   "metadata": {},
   "outputs": [],
   "source": [
    "### remove zeros, somthing to do this numpy mean returning zeros for masked elements\n",
    "\n",
    "clean_corr_mask = mean_corrected_LWP_clean.mask\n",
    "polluted_corr_mask = mean_corrected_LWP_polluted.mask\n",
    "\n",
    "clean_zero_mask = mean_corrected_LWP_clean == 0\n",
    "polluted_zero_mask = mean_corrected_LWP_polluted == 0\n",
    "\n",
    "mean_corrected_LWP_clean.mask = clean_zero_mask | clean_corr_mask\n",
    "mean_corrected_LWP_polluted.mask = polluted_zero_mask | polluted_corr_mask"
   ]
  },
  {
   "cell_type": "code",
   "execution_count": null,
   "metadata": {},
   "outputs": [],
   "source": []
  },
  {
   "cell_type": "code",
   "execution_count": 43,
   "metadata": {},
   "outputs": [
    {
     "data": {
      "image/png": "[encoded data removed]",
      "text/plain": [
       "<Figure size 640x480 with 1 Axes>"
      ]
     },
     "metadata": {},
     "output_type": "display_data"
    },
    {
     "data": {
      "text/plain": [
       "<Figure size 640x480 with 0 Axes>"
      ]
     },
     "metadata": {},
     "output_type": "display_data"
    }
   ],
   "source": [
    "fig, ax = plt.subplots()\n",
    "\n",
    "# Plot mean cloud fraction for clean and polluted regions\n",
    "ax.set_title('LWP response in clean and polluted regions')\n",
    "clean_line, = ax.plot(mean_GOES_LWP_clean, label='GOES Clean')\n",
    "#polluted_line, = ax.plot(mean_GOES_LWP_polluted, label='GOES Polluted')\n",
    "\n",
    "clean_corrected, = ax.plot(mean_corrected_LWP_clean, label='GOES correction Clean')\n",
    "#polluted_corrected, = ax.plot(mean_corrected_LWP_polluted, label='GOES correction Polluted')\n",
    "\n",
    "AMSR_clean_line = ax.scatter(np.arange(len(mean_AMSR_LWP_clean)),mean_AMSR_LWP_clean, label='AMSR Clean',marker='x')\n",
    "AMSR_polluted_line = ax.scatter(np.arange(len(mean_AMSR_LWP_polluted)),mean_AMSR_LWP_polluted, label='AMSR Polluted',marker='x')\n",
    "\n",
    "#ax.set_ylabel('Mean cloud fraction')\n",
    "ax.set_ylabel('Mean LWP [g/m$^2$]')\n",
    "ax.set_xlabel('Time since trajectory launch [hours since 6am local time]')\n",
    "\n",
    "# Set maximum time (in hours)\n",
    "max_time = time_advected\n",
    "\n",
    "# Calculate tick positions and labels\n",
    "tick_positions = np.linspace(0, max_time*2, int(time_advected/4))\n",
    "tick_labels = np.linspace(0, max_time, int(time_advected/4), dtype=int)\n",
    "\n",
    "# Shade the regions between 0 and 9, and 21 and 24 hours\n",
    "ax.fill_between([24,48], np.min([np.min(mean_GOES_LWP_clean),np.min(mean_GOES_LWP_polluted)]),np.max([np.max(mean_GOES_LWP_clean),np.max(mean_GOES_LWP_polluted)]), color='gray', alpha=0.3)\n",
    "ax.fill_between([72,96], np.min([np.min(mean_GOES_LWP_clean),np.min(mean_GOES_LWP_polluted)]),np.max([np.max(mean_GOES_LWP_clean),np.max(mean_GOES_LWP_polluted)]), color='gray', alpha=0.3)\n",
    "#ax.fill_between([120,144], np.min([np.min(mean_GOES_LWP_clean),np.min(mean_GOES_LWP_polluted)]),np.max([np.max(mean_GOES_LWP_clean),np.max(mean_GOES_LWP_polluted)]), color='gray', alpha=0.3)\n",
    "#ax.fill_between([168,192], np.min([np.min(mean_GOES_LWP_clean),np.min(mean_GOES_LWP_polluted)]),np.max([np.max(mean_GOES_LWP_clean),np.max(mean_GOES_LWP_polluted)]), color='gray', alpha=0.3)\n",
    "\n",
    "#ax.fill_between([120,144], np.min([np.min(mean_CF_clean),np.min(mean_CF_polluted)]),np.max([np.max(mean_CF_clean),np.max(mean_CF_polluted)]), color='gray', alpha=0.3)\n",
    "#ax.fill_between([168,192], np.min([np.min(mean_CF_clean),np.min(mean_CF_polluted)]),np.max([np.max(mean_CF_clean),np.max(mean_CF_polluted)]), color='gray', alpha=0.3)\n",
    "legend_elements = [mpatches.Patch(facecolor='lightgrey', edgecolor='black', alpha=0.5, label='Local Nighttime (6pm-6am)')]\n",
    "\n",
    "handles = [AMSR_clean_line,AMSR_polluted_line,clean_corrected] + legend_elements #,clean_corrected,polluted_corrected ##clean_line, polluted_line, ,polluted_corrected\n",
    "\n",
    "ax.legend(handles=handles)\n",
    "\n",
    "# Set ticks and tick labels on the x-axis\n",
    "ax.set_xticks(tick_positions)\n",
    "ax.set_xticklabels(tick_labels)\n",
    "\n",
    "# Add legend to the plot\n",
    "#ax.legend()\n",
    "\n",
    "# Show the plot\n",
    "plt.show()\n",
    "plt.savefig('LWP_response_AMSR_validation_AMSR.png')"
   ]
  },
  {
   "cell_type": "code",
   "execution_count": 44,
   "metadata": {},
   "outputs": [
    {
     "name": "stdout",
     "output_type": "stream",
     "text": [
      "(49, 1, 100, 100)\n",
      "(49, 1, 100, 100)\n"
     ]
    }
   ],
   "source": [
    "print(GOES_LWP_transposed.shape)\n",
    "print(LWP_corrected_transposed.shape)"
   ]
  },
  {
   "cell_type": "code",
   "execution_count": 45,
   "metadata": {},
   "outputs": [
    {
     "data": {
      "image/png": "[encoded data removed]",
      "text/plain": [
       "<Figure size 640x480 with 1 Axes>"
      ]
     },
     "metadata": {},
     "output_type": "display_data"
    }
   ],
   "source": [
    "LWP_corrected_mean = np.mean(LWP_corrected_transposed,axis = (1,2,3))\n",
    "GOES_LWP_mean = np.mean(GOES_LWP_transposed,axis = (1,2,3))\n",
    "\n",
    "zero_mask = LWP_corrected_mean == 0\n",
    "corr_mask = LWP_corrected_mean.mask\n",
    "\n",
    "LWP_corrected_mean.mask = zero_mask |corr_mask\n",
    "\n",
    "\n",
    "\n",
    "plt.plot(LWP_corrected_mean)\n",
    "plt.plot(GOES_LWP_mean)\n",
    "plt.scatter(np.arange(len(mean_AMSR_LWP_clean)),mean_AMSR_LWP_clean, label='AMSR Clean',marker='x')\n",
    "plt.fill_between([24,48], np.min([np.min(mean_GOES_LWP_clean),np.min(mean_GOES_LWP_polluted)]),np.max([np.max(mean_GOES_LWP_clean),np.max(mean_GOES_LWP_polluted)]), color='gray', alpha=0.3)\n",
    "plt.fill_between([72,96], np.min([np.min(mean_GOES_LWP_clean),np.min(mean_GOES_LWP_polluted)]),np.max([np.max(mean_GOES_LWP_clean),np.max(mean_GOES_LWP_polluted)]), color='gray', alpha=0.3)\n",
    "plt.show()"
   ]
  },
  {
   "cell_type": "code",
   "execution_count": 46,
   "metadata": {},
   "outputs": [
    {
     "name": "stdout",
     "output_type": "stream",
     "text": [
      "101.8180052168351\n",
      "115.69564507291\n"
     ]
    }
   ],
   "source": [
    "print(np.mean(mean_corrected_LWP_clean))\n",
    "print(np.mean(mean_corrected_LWP_polluted))"
   ]
  },
  {
   "cell_type": "code",
   "execution_count": 47,
   "metadata": {},
   "outputs": [
    {
     "ename": "SyntaxError",
     "evalue": "invalid syntax (760050616.py, line 1)",
     "output_type": "error",
     "traceback": [
      "\u001b[0;36m  Input \u001b[0;32mIn [47]\u001b[0;36m\u001b[0m\n\u001b[0;31m    break here\u001b[0m\n\u001b[0m          ^\u001b[0m\n\u001b[0;31mSyntaxError\u001b[0m\u001b[0;31m:\u001b[0m invalid syntax\n"
     ]
    }
   ],
   "source": [
    "break here"
   ]
  },
  {
   "cell_type": "code",
   "execution_count": null,
   "metadata": {},
   "outputs": [],
   "source": [
    "\n",
    "# Create a plot\n",
    "plt.figure(figsize=(10, 6))\n",
    "ax = plt.axes(projection=ccrs.PlateCarree())\n",
    "\n",
    "# Plot the data\n",
    "plt.scatter(lon_clean_reshaped[48], lat_clean_reshaped[48], marker='o', color='red', transform=ccrs.PlateCarree())\n",
    "\n",
    "# Add gridlines and coastlines\n",
    "ax.gridlines(draw_labels=True)\n",
    "ax.coastlines()\n",
    "\n",
    "# Set plot title\n",
    "plt.title('Latitude-Longitude Plot')\n",
    "\n",
    "# Show the plot\n",
    "plt.show()"
   ]
  },
  {
   "cell_type": "code",
   "execution_count": null,
   "metadata": {},
   "outputs": [],
   "source": [
    "print(lon_clean_reshaped)\n",
    "print(lon_polluted_reshaped)\n",
    "\n",
    "lon_clean_filled = np.ma.filled(lon_clean_reshaped, fill_value=np.nan)\n",
    "lat_clean_filled = np.ma.filled(lat_clean_reshaped, fill_value=np.nan)\n",
    "lon_polluted_filled = np.ma.filled(lon_polluted_reshaped, fill_value=np.nan)\n",
    "lat_polluted_filled = np.ma.filled(lat_polluted_reshaped, fill_value=np.nan)\n",
    "\n",
    "print(lon_clean_filled)\n",
    "print(lon_polluted_filled)\n",
    "\n"
   ]
  },
  {
   "cell_type": "code",
   "execution_count": null,
   "metadata": {},
   "outputs": [],
   "source": [
    "fig, axes = plt.subplots(1, 2, figsize=(15, 6), subplot_kw={'projection': ccrs.PlateCarree()})\n",
    "\n",
    "# Plot clean data\n",
    "heatmap_clean = axes[0].hexbin(lon_clean_filled[48], lat_clean_filled[48], gridsize=30, cmap='Blues', transform=ccrs.PlateCarree())\n",
    "axes[0].set_title('Clean Data')\n",
    "axes[0].gridlines(draw_labels=True)\n",
    "axes[0].coastlines()\n",
    "\n",
    "# Add colorbar to the first subplot\n",
    "cbar_clean = plt.colorbar(heatmap_clean, ax=axes[0], label='Density')\n",
    "\n",
    "# Plot polluted data\n",
    "heatmap_polluted = axes[1].hexbin(lon_polluted_filled[48], lat_polluted_filled[48], gridsize=30, cmap='Blues', transform=ccrs.PlateCarree())\n",
    "axes[1].set_title('Polluted Data')\n",
    "axes[1].gridlines(draw_labels=True)\n",
    "axes[1].coastlines()\n",
    "\n",
    "# Add colorbar to the second subplot\n",
    "cbar_polluted = plt.colorbar(heatmap_polluted, ax=axes[1], label='Density')\n",
    "\n",
    "# Adjust layout to prevent overlap\n",
    "plt.tight_layout()\n",
    "\n",
    "# Show the plots\n",
    "plt.show()"
   ]
  },
  {
   "cell_type": "code",
   "execution_count": null,
   "metadata": {},
   "outputs": [],
   "source": [
    "print(positions_reshaped.shape)\n",
    "\n",
    "lon_min = positions_reshaped[:,:,0,:,:].min()\n",
    "lon_max = positions_reshaped[:,:,0,:,:].max()\n",
    "lat_min = positions_reshaped[:,:,1,:,:].min()\n",
    "lat_max = positions_reshaped[:,:,1,:,:].max()\n",
    "\n",
    "print(lon_min,lon_max,lat_min,lat_max)"
   ]
  },
  {
   "cell_type": "code",
   "execution_count": null,
   "metadata": {},
   "outputs": [],
   "source": [
    "import matplotlib.animation as animation\n",
    "\n",
    "def update_plot(i):\n",
    "    # Clear the previous colorbars\n",
    "    if hasattr(update_plot, \"cbar_clean\"):\n",
    "        update_plot.cbar_clean.remove()\n",
    "    if hasattr(update_plot, \"cbar_polluted\"):\n",
    "        update_plot.cbar_polluted.remove()\n",
    "\n",
    "    # Clear the current clean data plot\n",
    "    axes[0].clear()\n",
    "    heatmap_clean = axes[0].hexbin(lon_clean_filled[i], lat_clean_filled[i], gridsize=30, cmap='Blues', transform=ccrs.PlateCarree())\n",
    "    axes[0].set_title(f'Clean Data - Time Step {int(i/2)}')\n",
    "    axes[0].gridlines(draw_labels=True)\n",
    "    axes[0].coastlines()\n",
    "    axes[0].set_extent([lon_min, lon_max, lat_min, lat_max], crs=ccrs.PlateCarree())  # Set extent\n",
    "\n",
    "    # Clear the current polluted data plot\n",
    "    axes[1].clear()\n",
    "    heatmap_polluted = axes[1].hexbin(lon_polluted_filled[i], lat_polluted_filled[i], gridsize=30, cmap='Blues', transform=ccrs.PlateCarree())\n",
    "    axes[1].set_title(f'Polluted Data - Time Step {int(i/2)}')\n",
    "    axes[1].gridlines(draw_labels=True)\n",
    "    axes[1].coastlines()\n",
    "    axes[1].set_extent([lon_min, lon_max, lat_min, lat_max], crs=ccrs.PlateCarree())  # Set extent\n",
    "\n",
    "# Compute the global minimum and maximum values for clean and polluted data\n",
    "vmin_clean = np.min(heatmap_clean.get_array())\n",
    "vmax_clean = np.max(heatmap_clean.get_array())\n",
    "vmin_polluted = np.min(heatmap_polluted.get_array())\n",
    "vmax_polluted = np.max(heatmap_polluted.get_array())\n",
    "\n",
    "# Create a figure with two subplots side by side\n",
    "fig, axes = plt.subplots(1, 2, figsize=(16, 8), subplot_kw={'projection': ccrs.PlateCarree()})\n",
    "\n",
    "# Adjust layout to prevent overlap\n",
    "plt.tight_layout()\n",
    "\n",
    "# Create the animation\n",
    "ani = animation.FuncAnimation(fig, update_plot, frames=len(lon_clean_reshaped), interval=200)\n",
    "\n",
    "# Create colorbars with the global minimum and maximum values\n",
    "cbar_clean = plt.colorbar(heatmap_clean, ax=axes[0], label='Density', extend='max', extendfrac=0.05, orientation='vertical')\n",
    "cbar_clean.set_ticks(np.linspace(vmin_clean, vmax_clean, num=5))  # Adjust number of ticks as needed\n",
    "cbar_polluted = plt.colorbar(heatmap_polluted, ax=axes[1], label='Density', extend='max', extendfrac=0.05, orientation='vertical')\n",
    "cbar_polluted.set_ticks(np.linspace(vmin_polluted, vmax_polluted, num=5))  # Adjust number of ticks as needed\n",
    "\n",
    "# Save the animation as a GIF\n",
    "#ani.save(f'clean_polluted_data_animation_single day_{time_advected}.gif', writer='imagemagick')"
   ]
  },
  {
   "cell_type": "code",
   "execution_count": null,
   "metadata": {},
   "outputs": [],
   "source": []
  },
  {
   "cell_type": "code",
   "execution_count": null,
   "metadata": {},
   "outputs": [],
   "source": [
    "import matplotlib.animation as animation\n",
    "\n",
    "def update_plot(i):\n",
    "    # Clear the previous colorbars\n",
    "    if hasattr(update_plot, \"cbar_clean\"):\n",
    "        update_plot.cbar_clean.remove()\n",
    "    if hasattr(update_plot, \"cbar_polluted\"):\n",
    "        update_plot.cbar_polluted.remove()\n",
    "\n",
    "    # Clear the current clean data plot\n",
    "    axes[0].clear()\n",
    "    heatmap_clean = axes[0].hexbin(lon_clean_filled[i], lat_clean_filled[i], gridsize=30, cmap='Blues', transform=ccrs.PlateCarree())\n",
    "    axes[0].set_title(f'Clean Data - Time Step {int(i/2)}')\n",
    "    axes[0].gridlines(draw_labels=True)\n",
    "    axes[0].coastlines()\n",
    "    axes[0].set_extent([lon_min, lon_max, lat_min, lat_max], crs=ccrs.PlateCarree())  # Set extent\n",
    "\n",
    "    # Clear the current polluted data plot\n",
    "    axes[1].clear()\n",
    "    heatmap_polluted = axes[1].hexbin(lon_polluted_filled[i], lat_polluted_filled[i], gridsize=30, cmap='Blues', transform=ccrs.PlateCarree())\n",
    "    axes[1].set_title(f'Polluted Data - Time Step {int(i/2)}')\n",
    "    axes[1].gridlines(draw_labels=True)\n",
    "    axes[1].coastlines()\n",
    "    axes[1].set_extent([lon_min, lon_max, lat_min, lat_max], crs=ccrs.PlateCarree())  # Set extent\n",
    "\n",
    "# Compute the global minimum and maximum values for clean and polluted data\n",
    "vmin_clean = np.min(heatmap_clean.get_array())\n",
    "vmax_clean = np.max(heatmap_clean.get_array())\n",
    "vmin_polluted = np.min(heatmap_polluted.get_array())\n",
    "vmax_polluted = np.max(heatmap_polluted.get_array())\n",
    "\n",
    "# Create a figure with two subplots side by side\n",
    "fig, axes = plt.subplots(1, 2, figsize=(16, 8), subplot_kw={'projection': ccrs.PlateCarree()})\n",
    "\n",
    "# Adjust layout to prevent overlap\n",
    "plt.tight_layout()\n",
    "\n",
    "# Create the animation\n",
    "ani = animation.FuncAnimation(fig, update_plot, frames=len(lon_clean_reshaped), interval=200)\n",
    "\n",
    "cmap_white_to_max = plt.cm.get_cmap('Blues')  # You can choose any colormap you like\n",
    "cmap_white_to_max.set_under(color='white')  # Set the color for values below vmin\n",
    "\n",
    "cbar_clean = plt.colorbar(heatmap_clean, ax=axes[0], label='Density', extend='max', extendfrac=0.05, orientation='vertical', cmap=cmap_white_to_max)\n",
    "cbar_clean.set_ticks(np.linspace(vmin_clean, vmax_clean, num=5))  # Adjust number of ticks as needed\n",
    "\n",
    "cbar_polluted = plt.colorbar(heatmap_polluted, ax=axes[1], label='Density', extend='max', extendfrac=0.05, orientation='vertical', cmap=cmap_white_to_max)\n",
    "cbar_polluted.set_ticks(np.linspace(vmin_polluted, vmax_polluted, num=5))  # Adjust number of ticks as needed\n",
    "\n",
    "\n",
    "\n",
    "# Save the animation as a GIF\n",
    "ani.save(f'clean_polluted_data_animation_single day_{time_advected}.gif', writer='imagemagick')"
   ]
  },
  {
   "cell_type": "code",
   "execution_count": null,
   "metadata": {},
   "outputs": [],
   "source": [
    "print(stop_here)"
   ]
  },
  {
   "cell_type": "code",
   "execution_count": null,
   "metadata": {},
   "outputs": [],
   "source": [
    "# Create a function to update the plots for each timestep\n",
    "import matplotlib.animation as animation\n",
    "\n",
    "def update_plot(i):\n",
    "    # Clear the previous colorbars\n",
    "    if hasattr(update_plot, \"cbar_clean\"):\n",
    "        update_plot.cbar_clean.remove()\n",
    "    if hasattr(update_plot, \"cbar_polluted\"):\n",
    "        update_plot.cbar_polluted.remove()\n",
    "\n",
    "    # Clear the current clean data plot\n",
    "    axes[0].clear()\n",
    "    heatmap_clean = axes[0].hexbin(lon_clean_filled[i], lat_clean_filled[i], gridsize=30, cmap='Blues', transform=ccrs.PlateCarree())\n",
    "    axes[0].set_title(f'Clean Data - Time Step {int(i/2)}')\n",
    "    axes[0].gridlines(draw_labels=True)\n",
    "    axes[0].coastlines()\n",
    "    axes[0].set_extent([lon_min, lon_max, lat_min, lat_max], crs=ccrs.PlateCarree())  # Set extent\n",
    "\n",
    "    update_plot.cbar_clean = plt.colorbar(heatmap_clean, ax=axes[0], label='Density')\n",
    "\n",
    "    # Clear the current polluted data plot\n",
    "    axes[1].clear()\n",
    "    heatmap_polluted = axes[1].hexbin(lon_polluted_filled[i], lat_polluted_filled[i], gridsize=30, cmap='Blues', transform=ccrs.PlateCarree())\n",
    "    axes[1].set_title(f'Polluted Data - Time Step {int(i/2)}')\n",
    "    axes[1].gridlines(draw_labels=True)\n",
    "    axes[1].coastlines()\n",
    "    axes[1].set_extent([lon_min, lon_max, lat_min, lat_max], crs=ccrs.PlateCarree())  # Set extent\n",
    "\n",
    "    update_plot.cbar_polluted = plt.colorbar(heatmap_polluted, ax=axes[1], label='Density')\n",
    "\n",
    "# Create a figure with two subplots side by side\n",
    "fig, axes = plt.subplots(1, 2, figsize=(15, 6), subplot_kw={'projection': ccrs.PlateCarree()})\n",
    "\n",
    "# Adjust layout to prevent overlap\n",
    "plt.tight_layout()\n",
    "\n",
    "# Create the animation\n",
    "ani = animation.FuncAnimation(fig, update_plot, frames=len(lon_clean_reshaped), interval=200)\n",
    "\n",
    "# Save the animation as a GIF\n",
    "ani.save('clean_polluted_data_animation_48.gif', writer='imagemagick')"
   ]
  },
  {
   "cell_type": "code",
   "execution_count": null,
   "metadata": {},
   "outputs": [],
   "source": [
    "print(np.sum(lon_clean_reshaped.mask))\n",
    "print(np.sum(lat_clean_reshaped.mask))\n",
    "print(np.sum(lon_polluted_reshaped.mask))\n",
    "print(np.sum(lat_polluted_reshaped.mask))"
   ]
  },
  {
   "cell_type": "code",
   "execution_count": null,
   "metadata": {},
   "outputs": [],
   "source": [
    "def update_plot(i):\n",
    "    # Clear the previous colorbars\n",
    "    if hasattr(update_plot, \"cbar_clean\"):\n",
    "        update_plot.cbar_clean.remove()\n",
    "    if hasattr(update_plot, \"cbar_polluted\"):\n",
    "        update_plot.cbar_polluted.remove()\n",
    "\n",
    "    # Clear the current clean data plot\n",
    "    axes[0].clear()\n",
    "    heatmap_clean = axes[0].hexbin(lon_clean_filled[i], lat_clean_filled[i], gridsize=30, cmap='Blues', transform=ccrs.PlateCarree())\n",
    "    axes[0].set_title(f'Clean Data - Time Step {int(i/2)}')\n",
    "    axes[0].gridlines(draw_labels=True)\n",
    "    axes[0].coastlines()\n",
    "    axes[0].set_extent([lon_min, lon_max, lat_min, lat_max], crs=ccrs.PlateCarree())  # Set extent\n",
    "\n",
    "    # Manually specify colorbar limits based on data range\n",
    "    vmin_clean = 0  # Minimum value for color scale\n",
    "    vmax_clean = np.max(heatmap_clean.get_array())  # Maximum value for color scale\n",
    "\n",
    "    update_plot.cbar_clean = plt.colorbar(heatmap_clean, ax=axes[0], label='Density', extend='max', extendfrac=0.05, orientation='horizontal')\n",
    "    update_plot.cbar_clean.set_ticks(np.linspace(vmin_clean, vmax_clean, num=5))  # Adjust number of ticks as needed\n",
    "\n",
    "    # Clear the current polluted data plot\n",
    "    axes[1].clear()\n",
    "    heatmap_polluted = axes[1].hexbin(lon_polluted_filled[i], lat_polluted_filled[i], gridsize=30, cmap='Blues', transform=ccrs.PlateCarree())\n",
    "    axes[1].set_title(f'Polluted Data - Time Step {int(i/2)}')\n",
    "    axes[1].gridlines(draw_labels=True)\n",
    "    axes[1].coastlines()\n",
    "    axes[1].set_extent([lon_min, lon_max, lat_min, lat_max], crs=ccrs.PlateCarree())  # Set extent\n",
    "\n",
    "    # Manually specify colorbar limits based on data range\n",
    "    vmin_polluted = 0  # Minimum value for color scale\n",
    "    vmax_polluted = np.max(heatmap_polluted.get_array())  # Maximum value for color scale\n",
    "\n",
    "    update_plot.cbar_polluted = plt.colorbar(heatmap_polluted, ax=axes[1], label='Density', extend='max', extendfrac=0.05, orientation='horizontal')\n",
    "    update_plot.cbar_polluted.set_ticks(np.linspace(vmin_polluted, vmax_polluted, num=5))  # Adjust number of ticks as needed\n",
    "\n",
    "# Create a figure with two subplots side by side\n",
    "fig, axes = plt.subplots(1, 2, figsize=(15, 6), subplot_kw={'projection': ccrs.PlateCarree()})\n",
    "\n",
    "# Adjust layout to prevent overlap\n",
    "plt.tight_layout()\n",
    "\n",
    "# Create the animation\n",
    "ani = animation.FuncAnimation(fig, update_plot, frames=len(lon_clean_reshaped), interval=200)\n",
    "\n",
    "# Save the animation as a GIF\n",
    "ani.save('clean_polluted_data_animation_48.gif', writer='imagemagick')\n"
   ]
  },
  {
   "cell_type": "code",
   "execution_count": null,
   "metadata": {},
   "outputs": [],
   "source": []
  },
  {
   "cell_type": "code",
   "execution_count": null,
   "metadata": {},
   "outputs": [],
   "source": []
  },
  {
   "cell_type": "code",
   "execution_count": null,
   "metadata": {},
   "outputs": [],
   "source": []
  },
  {
   "cell_type": "code",
   "execution_count": null,
   "metadata": {},
   "outputs": [],
   "source": [
    "# initialize CF_test array, this will store the CF values, reshapes CF so that all the rows correspond to the same time since the trjactory was launched\n",
    "\n",
    "CF_test = np.zeros((n_trajectories,int(datetime.timedelta(hours=time_advected).total_seconds() / time_step.total_seconds())+1,int(region_size/resample_size),int(region_size/resample_size))) ## stores the CF values, reshapes CF so that all the rows correspond to the same time since the trjactory was launched\n",
    "positions_time = np.zeros((n_trajectories,int(datetime.timedelta(hours=time_advected).total_seconds() / time_step.total_seconds())+1,2,int(region_size/resample_size),int(region_size/resample_size)))\n",
    "\n",
    "#LWP_reshaped = np.zeros((n_trajectories,int(datetime.timedelta(hours=time_advected).total_seconds() / time_step.total_seconds())+1,int(region_size/resample_size),int(region_size/resample_size))) ## stores the CF values, reshapes CF so that all the rows correspond to the same time since the trjactory was launched\n",
    "\n",
    "for i in range(n_trajectories):\n",
    "    CF_test[i,0:int(datetime.timedelta(hours=time_advected).total_seconds() / time_step.total_seconds())+1,:,:] = CF[i,i*int(time_between_trajectroies/time_step):i*int(time_between_trajectroies/time_step)+int(datetime.timedelta(hours=time_advected).total_seconds() / time_step.total_seconds()) +1,:,:]\n",
    "    #LWP_reshaped[i,0:int(datetime.timedelta(hours=time_advected).total_seconds() / time_step.total_seconds())+1,:,:] = LWP[i,i*int(time_between_trajectroies/time_step):i*int(time_between_trajectroies/time_step)+int(datetime.timedelta(hours=time_advected).total_seconds() / time_step.total_seconds()) +1,:,:]\n",
    "    positions_time[i,0:int(datetime.timedelta(hours=time_advected).total_seconds() / time_step.total_seconds())+1,:,:,:] = positions_all[i,i*int(time_between_trajectroies/time_step):i*int(time_between_trajectroies/time_step)+int(datetime.timedelta(hours=time_advected).total_seconds() / time_step.total_seconds()) +1,:,:,:]\n",
    "\n",
    "# mask out NaN values\n",
    "\n",
    "CF_test = np.ma.masked_invalid(CF_test)\n",
    "positions_time = np.ma.masked_invalid(positions_time)\n",
    "\n",
    "## ignore repeated indices for obvious reasons!\n",
    "\n",
    "index_to_skip = np.unique(index_to_skip)\n",
    "\n",
    "print(index_to_skip)\n",
    "\n",
    "#LWP_reshaped = np.ma.masked_invalid(LWP_reshaped)"
   ]
  },
  {
   "cell_type": "code",
   "execution_count": null,
   "metadata": {},
   "outputs": [],
   "source": [
    "print(positions_all.shape)\n",
    "print(CF_test.shape)\n",
    "print(positions_time.shape)\n",
    "\n",
    "#positions"
   ]
  },
  {
   "cell_type": "code",
   "execution_count": null,
   "metadata": {},
   "outputs": [],
   "source": [
    "# Path to the NetCDF file\n",
    "file_path = f'/disk1/Data/CAMS/aerosol_levels/{year}/04/{year}-04-01-{year}-04-30.nc'\n",
    "\n",
    "# Open the NetCDF file\n",
    "nc_file = Dataset(file_path)\n",
    "\n",
    "so2_data = nc_file.variables['aermr11'][:]\n",
    "\n",
    "time_data = nc_file.variables['time'][:]\n",
    "\n",
    "level_data = nc_file.variables['level'][:]\n",
    "\n",
    "lon = nc_file.variables['longitude'][:]\n",
    "\n",
    "lat = nc_file.variables['latitude'][:]\n",
    "\n",
    "print(nc_file.variables.keys())"
   ]
  },
  {
   "cell_type": "code",
   "execution_count": null,
   "metadata": {},
   "outputs": [],
   "source": [
    "## sort out times, hours since 1900 blah blah blah\n",
    "\n",
    "time_mask = time_data.mask\n",
    "\n",
    "timedelta_array = np.array([timedelta(hours=int(h)) for h in time_data.data])\n",
    "\n",
    "reference_date = datetime.datetime(1900, 1, 1, 0, 0, 0)\n",
    "\n",
    "CAMS_times = reference_date + timedelta_array ## note times are UTC"
   ]
  },
  {
   "cell_type": "code",
   "execution_count": null,
   "metadata": {},
   "outputs": [],
   "source": [
    "### Generalize all of so2 stuff e.g. so I dont need to hand change it, as this si how mistakes are made!!!!!\n",
    "\n",
    "## FOR INSRTANCE THE INDEX SLICING AND THE LEVELS\n",
    "\n",
    "slice = int(time_advected/3)"
   ]
  },
  {
   "cell_type": "code",
   "execution_count": null,
   "metadata": {},
   "outputs": [],
   "source": [
    "CAMS_times_sliced1 = CAMS_times[5:]  # remove first five timesteps so we start at 15:00 UTC this is a bit hacky and could be generalized\n",
    "\n",
    "CAMS_times_sliced = CAMS_times_sliced1[::slice]  ## select every 8th time step, so each time step is 24 hours apart, 16 here corresponds to 48 hours"
   ]
  },
  {
   "cell_type": "code",
   "execution_count": null,
   "metadata": {},
   "outputs": [],
   "source": [
    "so2_data_sliced1 = so2_data[5:,:,:,:] # remove first five timesteps so we start at 15:00 UTC\n",
    "\n",
    "so2_data_sliced = so2_data_sliced1[::slice,8,:,:] ## 8th pressure level corresponds to 900hPa so that the array has the form (day,lat,lon)\n",
    "\n",
    "so2_data_sliced = so2_data_sliced[:n_trajectories,:,:] ## slice the data so it has the same number of trajectories as the GOES data"
   ]
  },
  {
   "cell_type": "code",
   "execution_count": null,
   "metadata": {},
   "outputs": [],
   "source": [
    "so2_data_colocated = [] # initialize list to store colocated SO2 data\n",
    "\n",
    "## this loop is to fund the initial SO2 conecentration at the initial position of the parcel\n",
    "\n",
    "for i in range(n_trajectories): # \n",
    "    init_position = init_position_all[i]\n",
    "    init_lon = init_position[0]\n",
    "    init_lat = init_position[1]\n",
    "    so2_data_loop = so2_data_sliced[i,:,:]\n",
    "    \n",
    "    lat_diff = np.abs(init_lat[:, :, np.newaxis] -lat) \n",
    "\n",
    "    lat_indices = np.argmin(lat_diff, axis=-1)\n",
    "\n",
    "    lon_diff = np.abs(init_lon[:, :, np.newaxis] - lon)\n",
    "    lon_indices = np.argmin(lon_diff, axis=-1)\n",
    "\n",
    "    so2_data = so2_data_sliced[i,:,:] ## format (lat,lon)\n",
    "\n",
    "    so2_data_colocated.append(so2_data[lat_indices,lon_indices])\n",
    "\n",
    "so2_data_colocated = np.array(so2_data_colocated)\n"
   ]
  },
  {
   "cell_type": "code",
   "execution_count": null,
   "metadata": {},
   "outputs": [],
   "source": [
    "plt.hist(so2_data_colocated.flatten(), bins=30, edgecolor='black')\n",
    "\n",
    "# Calculate the median value\n",
    "median_value = np.median(so2_data_colocated)\n",
    "\n",
    "# Add a vertical line for the median value\n",
    "plt.axvline(x=median_value, color='red', linestyle='--', label=f'Median: {median_value:}')\n",
    "\n",
    "# Add labels and title\n",
    "plt.xlabel('Sulphate Aerosol Mixing Ratio @ 900hPa / kg kg$^{-1}$')\n",
    "plt.ylabel('Frequency')\n",
    "plt.title('Histogram')\n",
    "plt.legend()\n",
    "\n",
    "# Show the plot\n",
    "plt.show()"
   ]
  },
  {
   "cell_type": "code",
   "execution_count": null,
   "metadata": {},
   "outputs": [],
   "source": [
    "sulphate_critical = np.median(so2_data_colocated.flatten())\n",
    "\n",
    "print(sulphate_critical)#\n",
    "\n",
    "\n",
    "clean = so2_data_colocated < np.median(so2_data_colocated.flatten())  # define the condition for clean initial atmospheric condition, so2 concentrations less than 1e-15 kg/kg are True\n",
    "\n",
    "\n",
    "CF_transposed = np.transpose(CF_test, (1,0,2,3)) ## transpose the CF data so that the time is the first axis, this is so we can use the np.where function to find the indices of the clean and polluted conditions\n",
    "\n",
    "\n",
    "\n",
    "clean_expanded = np.expand_dims(clean, axis=0)  # Shape: (1, 10, 100, 100)\n",
    "\n",
    "# Repeat clean along the first axis to match the number of timesteps in CF_transposed\n",
    "clean_repeated = np.repeat(clean_expanded, len(CF_transposed), axis=0) "
   ]
  },
  {
   "cell_type": "code",
   "execution_count": null,
   "metadata": {},
   "outputs": [],
   "source": [
    "print(positions_time.shape)\n"
   ]
  },
  {
   "cell_type": "code",
   "execution_count": null,
   "metadata": {},
   "outputs": [],
   "source": [
    "### sort out positions\n",
    "\n",
    "positions_transposed = np.transpose(positions_time, (1,2,0,3,4)) ## transpose the positions data so that the time is the first axis, this is so we can use the np.where function to find the indices of the clean and polluted conditions\n",
    "\n",
    "lon_time = positions_transposed[:,0,:,:,:] ## extract the lon and lat data from the positions data\n",
    "lat_time = positions_transposed[:,1,:,:,:]"
   ]
  },
  {
   "cell_type": "code",
   "execution_count": null,
   "metadata": {},
   "outputs": [],
   "source": [
    "CF_clean = ma.masked_array(CF_transposed, mask=~clean_repeated)\n",
    "CF_polluted = ma.masked_array(CF_transposed, mask=clean_repeated)\n",
    "lon_clean = ma.masked_array(lon_time, mask=~clean_repeated)\n",
    "lon_polluted = ma.masked_array(lon_time, mask=clean_repeated)\n",
    "lat_clean = ma.masked_array(lat_time, mask=~clean_repeated)\n",
    "lat_polluted = ma.masked_array(lat_time, mask=clean_repeated)\n",
    "\n",
    "\n",
    "mean_CF_clean= np.mean(CF_clean, axis=(1, 2, 3))\n",
    "mean_CF_polluted = np.mean(CF_polluted, axis=(1, 2, 3))"
   ]
  },
  {
   "cell_type": "code",
   "execution_count": null,
   "metadata": {},
   "outputs": [],
   "source": [
    "mean_CF_polluted = mean_CF_polluted/1000 ## sort units out\n",
    "mean_CF_clean = mean_CF_clean/1000"
   ]
  },
  {
   "cell_type": "code",
   "execution_count": null,
   "metadata": {},
   "outputs": [],
   "source": [
    "lon_clean_reshaped = lon_clean.reshape((len(lon_clean),-1))\n",
    "lat_clean_reshaped = lat_clean.reshape((len(lat_clean),-1))\n",
    "lon_polluted_reshaped = lon_polluted.reshape((len(lon_polluted),-1))\n",
    "lat_polluted_reshaped = lat_polluted.reshape((len(lat_polluted),-1))"
   ]
  },
  {
   "cell_type": "code",
   "execution_count": null,
   "metadata": {},
   "outputs": [],
   "source": [
    "lon_array = lon_clean_reshaped\n",
    "lat_array = lat_clean_reshaped\n",
    "\n",
    "lon_grid, lat_grid = np.meshgrid(np.arange(lon_array.shape[1]), np.arange(lon_array.shape[0]))\n",
    "\n",
    "# Plot the latitude and longitude on a grid\n",
    "plt.figure(figsize=(10, 5))\n",
    "ax = plt.axes(projection=ccrs.PlateCarree())\n",
    "ax.coastlines()\n",
    "lon_scatter = ax.scatter(lon_grid, lat_grid, c=lon_array, cmap='viridis', s=2, transform=ccrs.PlateCarree(), label='Longitude')\n",
    "lat_scatter = ax.scatter(lon_grid, lat_grid, c=lat_array, cmap='viridis', s=2, transform=ccrs.PlateCarree(), label='Latitude')\n",
    "\n",
    "# Create a dummy scatter plot for colorbar\n",
    "dummy = ax.scatter([], [], c=[], cmap='viridis')\n",
    "plt.colorbar(dummy, label='Value')\n",
    "\n",
    "plt.title('Latitude and Longitude on Grid')\n",
    "plt.xlabel('Longitude')\n",
    "plt.ylabel('Latitude')\n",
    "plt.legend()\n",
    "plt.show()\n"
   ]
  },
  {
   "cell_type": "code",
   "execution_count": null,
   "metadata": {},
   "outputs": [],
   "source": [
    "fig, ax = plt.subplots()\n",
    "\n",
    "# Plot mean cloud fraction for clean and polluted regions\n",
    "ax.set_title('LWP response in clean and polluted regions')\n",
    "clean_line, = ax.plot(mean_CF_clean, label='Clean')\n",
    "polluted_line, = ax.plot(mean_CF_polluted, label='Polluted')\n",
    "#ax.set_ylabel('Mean cloud fraction')\n",
    "ax.set_ylabel('Mean LWP [g/m$^2$]')\n",
    "ax.set_xlabel('Time since trajectory launch [hours since 6am local time]')\n",
    "\n",
    "# Set maximum time (in hours)\n",
    "max_time = time_advected\n",
    "\n",
    "# Calculate tick positions and labels\n",
    "tick_positions = np.linspace(0, max_time*2, int(time_advected/4))\n",
    "tick_labels = np.linspace(0, max_time, int(time_advected/4), dtype=int)\n",
    "\n",
    "# Shade the regions between 0 and 9, and 21 and 24 hours\n",
    "ax.fill_between([24,48], np.min([np.min(mean_CF_clean),np.min(mean_CF_polluted)]),np.max([np.max(mean_CF_clean),np.max(mean_CF_polluted)]), color='gray', alpha=0.3)\n",
    "#ax.fill_between([72,96], np.min([np.min(mean_CF_clean),np.min(mean_CF_polluted)]),np.max([np.max(mean_CF_clean),np.max(mean_CF_polluted)]), color='gray', alpha=0.3)\n",
    "#ax.fill_between([120,144], np.min([np.min(mean_CF_clean),np.min(mean_CF_polluted)]),np.max([np.max(mean_CF_clean),np.max(mean_CF_polluted)]), color='gray', alpha=0.3)\n",
    "#ax.fill_between([168,192], np.min([np.min(mean_CF_clean),np.min(mean_CF_polluted)]),np.max([np.max(mean_CF_clean),np.max(mean_CF_polluted)]), color='gray', alpha=0.3)\n",
    "legend_elements = [mpatches.Patch(facecolor='lightgrey', edgecolor='black', alpha=0.5, label='Local Nighttime (6pm-6am)')]\n",
    "\n",
    "handles = [clean_line, polluted_line] + legend_elements\n",
    "\n",
    "ax.legend(handles=handles)\n",
    "\n",
    "# Set ticks and tick labels on the x-axis\n",
    "ax.set_xticks(tick_positions)\n",
    "ax.set_xticklabels(tick_labels)\n",
    "\n",
    "# Add legend to the plot\n",
    "#ax.legend()\n",
    "\n",
    "# Show the plot\n",
    "plt.show()"
   ]
  }
 ],
 "metadata": {
  "kernelspec": {
   "display_name": "py38_trklib2",
   "language": "python",
   "name": "python3"
  },
  "language_info": {
   "codemirror_mode": {
    "name": "ipython",
    "version": 3
   },
   "file_extension": ".py",
   "mimetype": "text/x-python",
   "name": "python",
   "nbconvert_exporter": "python",
   "pygments_lexer": "ipython3",
   "version": "3.8.13"
  }
 },
 "nbformat": 4,
 "nbformat_minor": 2
}
